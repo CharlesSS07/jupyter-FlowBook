{
 "cells": [
  {
   "cell_type": "markdown",
   "metadata": {
    "id": "MhoQ0WE77laV"
   },
   "source": [
    "##### Copyright 2018 The TensorFlow Authors."
   ]
  },
  {
   "cell_type": "code",
   "execution_count": 62,
   "metadata": {
    "id": "dzLKpmZICaWN",
    "nodes": "{\"boundingBox\":{\"y\":718,\"x\":-444,\"width\":1098},\"inputs\":[],\"outputs\":[\"{\\\"inputNode\\\":\\\"{\\\\\\\"name\\\\\\\":\\\\\\\"np, tf, keras, plt\\\\\\\"}\\\",\\\"name\\\":\\\"np, tf, keras, plt\\\"}\"],\"title\":\"Import Stuff\"}"
   },
   "outputs": [
    {
     "name": "stdout",
     "output_type": "stream",
     "text": [
      "2.3.1\n"
     ]
    },
    {
     "data": {
      "text/plain": [
       "(<module 'numpy' from '/home/cs/anaconda3/envs/tfenv/lib/python3.8/site-packages/numpy/__init__.py'>,\n",
       " <module 'tensorflow' from '/home/cs/anaconda3/envs/tfenv/lib/python3.8/site-packages/tensorflow/__init__.py'>,\n",
       " <module 'tensorflow.keras' from '/home/cs/anaconda3/envs/tfenv/lib/python3.8/site-packages/tensorflow/keras/__init__.py'>,\n",
       " <module 'matplotlib.pyplot' from '/home/cs/anaconda3/envs/tfenv/lib/python3.8/site-packages/matplotlib/pyplot.py'>)"
      ]
     },
     "execution_count": 62,
     "metadata": {},
     "output_type": "execute_result"
    }
   ],
   "source": [
    "# TensorFlow and tf.keras\n",
    "import tensorflow as tf\n",
    "from tensorflow import keras\n",
    "\n",
    "# Helper libraries\n",
    "import numpy as np\n",
    "import matplotlib.pyplot as plt\n",
    "\n",
    "print(tf.__version__)\n",
    "(np, tf, keras, plt)"
   ]
  },
  {
   "cell_type": "code",
   "execution_count": 78,
   "metadata": {
    "id": "7MqDQO0KCaWS",
    "nodes": "{\"boundingBox\":{\"y\":1473,\"x\":-314,\"width\":884},\"inputs\":[],\"outputs\":[\"{\\\"inputNode\\\":\\\"{\\\\\\\"name\\\\\\\":\\\\\\\"NodeVarSpace['69']\\\\\\\"}\\\",\\\"name\\\":\\\"NodeVarSpace['69']\\\"}\"],\"title\":\"generate fashion_mnist\"}",
    "scrolled": true
   },
   "outputs": [
    {
     "data": {
      "text/plain": [
       "(array([[[0, 0, 0, ..., 0, 0, 0],\n",
       "         [0, 0, 0, ..., 0, 0, 0],\n",
       "         [0, 0, 0, ..., 0, 0, 0],\n",
       "         ...,\n",
       "         [0, 0, 0, ..., 0, 0, 0],\n",
       "         [0, 0, 0, ..., 0, 0, 0],\n",
       "         [0, 0, 0, ..., 0, 0, 0]],\n",
       " \n",
       "        [[0, 0, 0, ..., 0, 0, 0],\n",
       "         [0, 0, 0, ..., 0, 0, 0],\n",
       "         [0, 0, 0, ..., 0, 0, 0],\n",
       "         ...,\n",
       "         [0, 0, 0, ..., 0, 0, 0],\n",
       "         [0, 0, 0, ..., 0, 0, 0],\n",
       "         [0, 0, 0, ..., 0, 0, 0]],\n",
       " \n",
       "        [[0, 0, 0, ..., 0, 0, 0],\n",
       "         [0, 0, 0, ..., 0, 0, 0],\n",
       "         [0, 0, 0, ..., 0, 0, 0],\n",
       "         ...,\n",
       "         [0, 0, 0, ..., 0, 0, 0],\n",
       "         [0, 0, 0, ..., 0, 0, 0],\n",
       "         [0, 0, 0, ..., 0, 0, 0]],\n",
       " \n",
       "        ...,\n",
       " \n",
       "        [[0, 0, 0, ..., 0, 0, 0],\n",
       "         [0, 0, 0, ..., 0, 0, 0],\n",
       "         [0, 0, 0, ..., 0, 0, 0],\n",
       "         ...,\n",
       "         [0, 0, 0, ..., 0, 0, 0],\n",
       "         [0, 0, 0, ..., 0, 0, 0],\n",
       "         [0, 0, 0, ..., 0, 0, 0]],\n",
       " \n",
       "        [[0, 0, 0, ..., 0, 0, 0],\n",
       "         [0, 0, 0, ..., 0, 0, 0],\n",
       "         [0, 0, 0, ..., 0, 0, 0],\n",
       "         ...,\n",
       "         [0, 0, 0, ..., 0, 0, 0],\n",
       "         [0, 0, 0, ..., 0, 0, 0],\n",
       "         [0, 0, 0, ..., 0, 0, 0]],\n",
       " \n",
       "        [[0, 0, 0, ..., 0, 0, 0],\n",
       "         [0, 0, 0, ..., 0, 0, 0],\n",
       "         [0, 0, 0, ..., 0, 0, 0],\n",
       "         ...,\n",
       "         [0, 0, 0, ..., 0, 0, 0],\n",
       "         [0, 0, 0, ..., 0, 0, 0],\n",
       "         [0, 0, 0, ..., 0, 0, 0]]], dtype=uint8),\n",
       " array([9, 0, 0, ..., 3, 0, 5], dtype=uint8),\n",
       " array([[[0, 0, 0, ..., 0, 0, 0],\n",
       "         [0, 0, 0, ..., 0, 0, 0],\n",
       "         [0, 0, 0, ..., 0, 0, 0],\n",
       "         ...,\n",
       "         [0, 0, 0, ..., 0, 0, 0],\n",
       "         [0, 0, 0, ..., 0, 0, 0],\n",
       "         [0, 0, 0, ..., 0, 0, 0]],\n",
       " \n",
       "        [[0, 0, 0, ..., 0, 0, 0],\n",
       "         [0, 0, 0, ..., 0, 0, 0],\n",
       "         [0, 0, 0, ..., 0, 0, 0],\n",
       "         ...,\n",
       "         [0, 0, 0, ..., 0, 0, 0],\n",
       "         [0, 0, 0, ..., 0, 0, 0],\n",
       "         [0, 0, 0, ..., 0, 0, 0]],\n",
       " \n",
       "        [[0, 0, 0, ..., 0, 0, 0],\n",
       "         [0, 0, 0, ..., 0, 0, 0],\n",
       "         [0, 0, 0, ..., 0, 0, 0],\n",
       "         ...,\n",
       "         [0, 0, 0, ..., 0, 0, 0],\n",
       "         [0, 0, 0, ..., 0, 0, 0],\n",
       "         [0, 0, 0, ..., 0, 0, 0]],\n",
       " \n",
       "        ...,\n",
       " \n",
       "        [[0, 0, 0, ..., 0, 0, 0],\n",
       "         [0, 0, 0, ..., 0, 0, 0],\n",
       "         [0, 0, 0, ..., 0, 0, 0],\n",
       "         ...,\n",
       "         [0, 0, 0, ..., 0, 0, 0],\n",
       "         [0, 0, 0, ..., 0, 0, 0],\n",
       "         [0, 0, 0, ..., 0, 0, 0]],\n",
       " \n",
       "        [[0, 0, 0, ..., 0, 0, 0],\n",
       "         [0, 0, 0, ..., 0, 0, 0],\n",
       "         [0, 0, 0, ..., 0, 0, 0],\n",
       "         ...,\n",
       "         [0, 0, 0, ..., 0, 0, 0],\n",
       "         [0, 0, 0, ..., 0, 0, 0],\n",
       "         [0, 0, 0, ..., 0, 0, 0]],\n",
       " \n",
       "        [[0, 0, 0, ..., 0, 0, 0],\n",
       "         [0, 0, 0, ..., 0, 0, 0],\n",
       "         [0, 0, 0, ..., 0, 0, 0],\n",
       "         ...,\n",
       "         [0, 0, 0, ..., 0, 0, 0],\n",
       "         [0, 0, 0, ..., 0, 0, 0],\n",
       "         [0, 0, 0, ..., 0, 0, 0]]], dtype=uint8),\n",
       " array([9, 2, 1, ..., 8, 1, 5], dtype=uint8))"
      ]
     },
     "execution_count": 78,
     "metadata": {},
     "output_type": "execute_result"
    }
   ],
   "source": [
    "fashion_mnist = keras.datasets.fashion_mnist\n",
    "\n",
    "(train_images, train_labels), (test_images, test_labels) = fashion_mnist.load_data()\n",
    "train_images, train_labels, test_images, test_labels"
   ]
  },
  {
   "cell_type": "code",
   "execution_count": 81,
   "metadata": {
    "nodes": "{\"boundingBox\":{\"y\":1423,\"x\":871,\"width\":481},\"inputs\":[\"{\\\"name\\\":\\\"fashion_mnist\\\",\\\"outputSourceVarName\\\":\\\"NodeVarSpace['69']\\\"}\"],\"outputs\":[\"{\\\"inputNode\\\":\\\"{\\\\\\\"name\\\\\\\":\\\\\\\"NodeVarSpace['70']\\\\\\\"}\\\",\\\"name\\\":\\\"NodeVarSpace['70']\\\"}\"],\"title\":\"get train_images\"}",
    "scrolled": true
   },
   "outputs": [
    {
     "data": {
      "text/plain": [
       "array([[[0, 0, 0, ..., 0, 0, 0],\n",
       "        [0, 0, 0, ..., 0, 0, 0],\n",
       "        [0, 0, 0, ..., 0, 0, 0],\n",
       "        ...,\n",
       "        [0, 0, 0, ..., 0, 0, 0],\n",
       "        [0, 0, 0, ..., 0, 0, 0],\n",
       "        [0, 0, 0, ..., 0, 0, 0]],\n",
       "\n",
       "       [[0, 0, 0, ..., 0, 0, 0],\n",
       "        [0, 0, 0, ..., 0, 0, 0],\n",
       "        [0, 0, 0, ..., 0, 0, 0],\n",
       "        ...,\n",
       "        [0, 0, 0, ..., 0, 0, 0],\n",
       "        [0, 0, 0, ..., 0, 0, 0],\n",
       "        [0, 0, 0, ..., 0, 0, 0]],\n",
       "\n",
       "       [[0, 0, 0, ..., 0, 0, 0],\n",
       "        [0, 0, 0, ..., 0, 0, 0],\n",
       "        [0, 0, 0, ..., 0, 0, 0],\n",
       "        ...,\n",
       "        [0, 0, 0, ..., 0, 0, 0],\n",
       "        [0, 0, 0, ..., 0, 0, 0],\n",
       "        [0, 0, 0, ..., 0, 0, 0]],\n",
       "\n",
       "       ...,\n",
       "\n",
       "       [[0, 0, 0, ..., 0, 0, 0],\n",
       "        [0, 0, 0, ..., 0, 0, 0],\n",
       "        [0, 0, 0, ..., 0, 0, 0],\n",
       "        ...,\n",
       "        [0, 0, 0, ..., 0, 0, 0],\n",
       "        [0, 0, 0, ..., 0, 0, 0],\n",
       "        [0, 0, 0, ..., 0, 0, 0]],\n",
       "\n",
       "       [[0, 0, 0, ..., 0, 0, 0],\n",
       "        [0, 0, 0, ..., 0, 0, 0],\n",
       "        [0, 0, 0, ..., 0, 0, 0],\n",
       "        ...,\n",
       "        [0, 0, 0, ..., 0, 0, 0],\n",
       "        [0, 0, 0, ..., 0, 0, 0],\n",
       "        [0, 0, 0, ..., 0, 0, 0]],\n",
       "\n",
       "       [[0, 0, 0, ..., 0, 0, 0],\n",
       "        [0, 0, 0, ..., 0, 0, 0],\n",
       "        [0, 0, 0, ..., 0, 0, 0],\n",
       "        ...,\n",
       "        [0, 0, 0, ..., 0, 0, 0],\n",
       "        [0, 0, 0, ..., 0, 0, 0],\n",
       "        [0, 0, 0, ..., 0, 0, 0]]], dtype=uint8)"
      ]
     },
     "execution_count": 81,
     "metadata": {},
     "output_type": "execute_result"
    }
   ],
   "source": [
    "fashion_mnist[0]"
   ]
  },
  {
   "cell_type": "code",
   "execution_count": 86,
   "metadata": {
    "id": "zW5k_xz1CaWX",
    "nodes": "{\"boundingBox\":{\"y\":1226,\"x\":2174,\"width\":366},\"inputs\":[\"{\\\"name\\\":\\\"train_images\\\",\\\"outputSourceVarName\\\":\\\"NodeVarSpace['70']\\\"}\"],\"outputs\":[\"{\\\"inputNode\\\":\\\"{\\\\\\\"name\\\\\\\":\\\\\\\"NodeVarSpace['67']\\\\\\\"}\\\",\\\"name\\\":\\\"NodeVarSpace['67']\\\"}\"],\"title\":\"shape of train_images\"}"
   },
   "outputs": [
    {
     "data": {
      "text/plain": [
       "(60000, 28, 28)"
      ]
     },
     "execution_count": 86,
     "metadata": {},
     "output_type": "execute_result"
    }
   ],
   "source": [
    "train_images.shape"
   ]
  },
  {
   "cell_type": "code",
   "execution_count": 87,
   "metadata": {
    "id": "TRFYHB2mCaWb",
    "nodes": "{\"boundingBox\":{\"y\":1621,\"x\":2176,\"width\":376},\"inputs\":[\"{\\\"name\\\":\\\"train_labels\\\",\\\"outputSourceVarName\\\":null}\"],\"outputs\":[\"{\\\"inputNode\\\":\\\"{\\\\\\\"name\\\\\\\":\\\\\\\"NodeVarSpace['66']\\\\\\\"}\\\",\\\"name\\\":\\\"NodeVarSpace['66']\\\"}\"],\"title\":\"length of train_labels\"}"
   },
   "outputs": [
    {
     "data": {
      "text/plain": [
       "60000"
      ]
     },
     "execution_count": 87,
     "metadata": {},
     "output_type": "execute_result"
    }
   ],
   "source": [
    "len(train_labels)"
   ]
  },
  {
   "cell_type": "code",
   "execution_count": 82,
   "metadata": {
    "nodes": "{\"boundingBox\":{\"y\":1429,\"x\":1404,\"width\":462},\"inputs\":[\"{\\\"name\\\":\\\"fashion_mnist\\\",\\\"outputSourceVarName\\\":\\\"NodeVarSpace['69']\\\"}\"],\"outputs\":[\"{\\\"inputNode\\\":\\\"{\\\\\\\"name\\\\\\\":\\\\\\\"NodeVarSpace['71']\\\\\\\"}\\\",\\\"name\\\":\\\"NodeVarSpace['71']\\\"}\"],\"title\":\"get train_labels\"}",
    "scrolled": true
   },
   "outputs": [
    {
     "data": {
      "text/plain": [
       "array([9, 0, 0, ..., 3, 0, 5], dtype=uint8)"
      ]
     },
     "execution_count": 82,
     "metadata": {},
     "output_type": "execute_result"
    }
   ],
   "source": [
    "fashion_mnist[1]"
   ]
  },
  {
   "cell_type": "code",
   "execution_count": 83,
   "metadata": {
    "nodes": "{\"boundingBox\":{\"y\":2114,\"x\":869,\"width\":436},\"inputs\":[\"{\\\"name\\\":\\\"fashion_mnist\\\",\\\"outputSourceVarName\\\":\\\"NodeVarSpace['69']\\\"}\"],\"outputs\":[\"{\\\"inputNode\\\":\\\"{\\\\\\\"name\\\\\\\":\\\\\\\"NodeVarSpace['72']\\\\\\\"}\\\",\\\"name\\\":\\\"NodeVarSpace['72']\\\"}\"],\"title\":\"get test_images\"}",
    "scrolled": true
   },
   "outputs": [
    {
     "data": {
      "text/plain": [
       "array([[[0, 0, 0, ..., 0, 0, 0],\n",
       "        [0, 0, 0, ..., 0, 0, 0],\n",
       "        [0, 0, 0, ..., 0, 0, 0],\n",
       "        ...,\n",
       "        [0, 0, 0, ..., 0, 0, 0],\n",
       "        [0, 0, 0, ..., 0, 0, 0],\n",
       "        [0, 0, 0, ..., 0, 0, 0]],\n",
       "\n",
       "       [[0, 0, 0, ..., 0, 0, 0],\n",
       "        [0, 0, 0, ..., 0, 0, 0],\n",
       "        [0, 0, 0, ..., 0, 0, 0],\n",
       "        ...,\n",
       "        [0, 0, 0, ..., 0, 0, 0],\n",
       "        [0, 0, 0, ..., 0, 0, 0],\n",
       "        [0, 0, 0, ..., 0, 0, 0]],\n",
       "\n",
       "       [[0, 0, 0, ..., 0, 0, 0],\n",
       "        [0, 0, 0, ..., 0, 0, 0],\n",
       "        [0, 0, 0, ..., 0, 0, 0],\n",
       "        ...,\n",
       "        [0, 0, 0, ..., 0, 0, 0],\n",
       "        [0, 0, 0, ..., 0, 0, 0],\n",
       "        [0, 0, 0, ..., 0, 0, 0]],\n",
       "\n",
       "       ...,\n",
       "\n",
       "       [[0, 0, 0, ..., 0, 0, 0],\n",
       "        [0, 0, 0, ..., 0, 0, 0],\n",
       "        [0, 0, 0, ..., 0, 0, 0],\n",
       "        ...,\n",
       "        [0, 0, 0, ..., 0, 0, 0],\n",
       "        [0, 0, 0, ..., 0, 0, 0],\n",
       "        [0, 0, 0, ..., 0, 0, 0]],\n",
       "\n",
       "       [[0, 0, 0, ..., 0, 0, 0],\n",
       "        [0, 0, 0, ..., 0, 0, 0],\n",
       "        [0, 0, 0, ..., 0, 0, 0],\n",
       "        ...,\n",
       "        [0, 0, 0, ..., 0, 0, 0],\n",
       "        [0, 0, 0, ..., 0, 0, 0],\n",
       "        [0, 0, 0, ..., 0, 0, 0]],\n",
       "\n",
       "       [[0, 0, 0, ..., 0, 0, 0],\n",
       "        [0, 0, 0, ..., 0, 0, 0],\n",
       "        [0, 0, 0, ..., 0, 0, 0],\n",
       "        ...,\n",
       "        [0, 0, 0, ..., 0, 0, 0],\n",
       "        [0, 0, 0, ..., 0, 0, 0],\n",
       "        [0, 0, 0, ..., 0, 0, 0]]], dtype=uint8)"
      ]
     },
     "execution_count": 83,
     "metadata": {},
     "output_type": "execute_result"
    }
   ],
   "source": [
    "fashion_mnist[2]"
   ]
  },
  {
   "cell_type": "code",
   "execution_count": 84,
   "metadata": {
    "nodes": "{\"boundingBox\":{\"y\":2111,\"x\":1412,\"width\":447},\"inputs\":[\"{\\\"name\\\":\\\"fashion_mnist\\\",\\\"outputSourceVarName\\\":\\\"NodeVarSpace['69']\\\"}\"],\"outputs\":[\"{\\\"inputNode\\\":\\\"{\\\\\\\"name\\\\\\\":\\\\\\\"NodeVarSpace['73']\\\\\\\"}\\\",\\\"name\\\":\\\"NodeVarSpace['73']\\\"}\"],\"title\":\"get test_labels\"}"
   },
   "outputs": [
    {
     "data": {
      "text/plain": [
       "array([9, 2, 1, ..., 8, 1, 5], dtype=uint8)"
      ]
     },
     "execution_count": 84,
     "metadata": {},
     "output_type": "execute_result"
    }
   ],
   "source": [
    "fashion_mnist[3]"
   ]
  },
  {
   "cell_type": "code",
   "execution_count": 89,
   "metadata": {
    "id": "2KFnYlcwCaWl",
    "nodes": "{\"boundingBox\":{\"y\":2077,\"x\":2172,\"width\":388},\"inputs\":[\"{\\\"name\\\":\\\"test_images\\\",\\\"outputSourceVarName\\\":\\\"NodeVarSpace['72']\\\"}\"],\"outputs\":[\"{\\\"inputNode\\\":\\\"{\\\\\\\"name\\\\\\\":\\\\\\\"NodeVarSpace['64']\\\\\\\"}\\\",\\\"name\\\":\\\"NodeVarSpace['64']\\\"}\"],\"title\":\"shape of test_images\"}"
   },
   "outputs": [
    {
     "data": {
      "text/plain": [
       "(10000, 28, 28)"
      ]
     },
     "execution_count": 89,
     "metadata": {},
     "output_type": "execute_result"
    }
   ],
   "source": [
    "test_images.shape"
   ]
  },
  {
   "cell_type": "code",
   "execution_count": 91,
   "metadata": {
    "id": "iJmPr5-ACaWn",
    "nodes": "{\"boundingBox\":{\"y\":2487,\"x\":2171,\"width\":360},\"inputs\":[\"{\\\"name\\\":\\\"test_labels\\\",\\\"outputSourceVarName\\\":\\\"NodeVarSpace['73']\\\"}\"],\"outputs\":[\"{\\\"inputNode\\\":\\\"{\\\\\\\"name\\\\\\\":\\\\\\\"NodeVarSpace['63']\\\\\\\"}\\\",\\\"name\\\":\\\"NodeVarSpace['63']\\\"}\"],\"title\":\"length of test_labels\"}"
   },
   "outputs": [
    {
     "data": {
      "text/plain": [
       "10000"
      ]
     },
     "execution_count": 91,
     "metadata": {},
     "output_type": "execute_result"
    }
   ],
   "source": [
    "len(test_labels)"
   ]
  },
  {
   "cell_type": "code",
   "execution_count": 93,
   "metadata": {
    "id": "m4VEw8Ud9Quh",
    "nodes": "{\"boundingBox\":{\"y\":951,\"x\":2776,\"width\":528},\"inputs\":[\"{\\\"name\\\":\\\"train_images\\\",\\\"outputSourceVarName\\\":\\\"NodeVarSpace['70']\\\"}\"],\"outputs\":[\"{\\\"inputNode\\\":\\\"{\\\\\\\"name\\\\\\\":\\\\\\\"NodeVarSpace['62']\\\\\\\"}\\\",\\\"name\\\":\\\"NodeVarSpace['62']\\\"}\"],\"title\":\"visualize train images\"}"
   },
   "outputs": [
    {
     "data": {
      "image/png": "[encoded data removed]",
      "text/plain": [
       "<Figure size 432x288 with 2 Axes>"
      ]
     },
     "metadata": {
      "needs_background": "light"
     },
     "output_type": "display_data"
    }
   ],
   "source": [
    "plt.figure()\n",
    "plt.imshow(train_images[0])\n",
    "plt.colorbar()\n",
    "plt.grid(False)\n",
    "plt.show()"
   ]
  },
  {
   "cell_type": "code",
   "execution_count": 95,
   "metadata": {
    "id": "bW5WzIPlCaWv",
    "nodes": "{\"boundingBox\":{\"y\":1845,\"x\":3685,\"width\":588},\"inputs\":[\"{\\\"name\\\":\\\"train_images\\\",\\\"outputSourceVarName\\\":\\\"NodeVarSpace['70']\\\"}\"],\"outputs\":[\"{\\\"inputNode\\\":\\\"{\\\\\\\"name\\\\\\\":\\\\\\\"NodeVarSpace['61']\\\\\\\"}\\\",\\\"name\\\":\\\"NodeVarSpace['61']\\\"}\"],\"title\":\"normalize train_images\"}",
    "scrolled": true
   },
   "outputs": [
    {
     "data": {
      "text/plain": [
       "array([[[0., 0., 0., ..., 0., 0., 0.],\n",
       "        [0., 0., 0., ..., 0., 0., 0.],\n",
       "        [0., 0., 0., ..., 0., 0., 0.],\n",
       "        ...,\n",
       "        [0., 0., 0., ..., 0., 0., 0.],\n",
       "        [0., 0., 0., ..., 0., 0., 0.],\n",
       "        [0., 0., 0., ..., 0., 0., 0.]],\n",
       "\n",
       "       [[0., 0., 0., ..., 0., 0., 0.],\n",
       "        [0., 0., 0., ..., 0., 0., 0.],\n",
       "        [0., 0., 0., ..., 0., 0., 0.],\n",
       "        ...,\n",
       "        [0., 0., 0., ..., 0., 0., 0.],\n",
       "        [0., 0., 0., ..., 0., 0., 0.],\n",
       "        [0., 0., 0., ..., 0., 0., 0.]],\n",
       "\n",
       "       [[0., 0., 0., ..., 0., 0., 0.],\n",
       "        [0., 0., 0., ..., 0., 0., 0.],\n",
       "        [0., 0., 0., ..., 0., 0., 0.],\n",
       "        ...,\n",
       "        [0., 0., 0., ..., 0., 0., 0.],\n",
       "        [0., 0., 0., ..., 0., 0., 0.],\n",
       "        [0., 0., 0., ..., 0., 0., 0.]],\n",
       "\n",
       "       ...,\n",
       "\n",
       "       [[0., 0., 0., ..., 0., 0., 0.],\n",
       "        [0., 0., 0., ..., 0., 0., 0.],\n",
       "        [0., 0., 0., ..., 0., 0., 0.],\n",
       "        ...,\n",
       "        [0., 0., 0., ..., 0., 0., 0.],\n",
       "        [0., 0., 0., ..., 0., 0., 0.],\n",
       "        [0., 0., 0., ..., 0., 0., 0.]],\n",
       "\n",
       "       [[0., 0., 0., ..., 0., 0., 0.],\n",
       "        [0., 0., 0., ..., 0., 0., 0.],\n",
       "        [0., 0., 0., ..., 0., 0., 0.],\n",
       "        ...,\n",
       "        [0., 0., 0., ..., 0., 0., 0.],\n",
       "        [0., 0., 0., ..., 0., 0., 0.],\n",
       "        [0., 0., 0., ..., 0., 0., 0.]],\n",
       "\n",
       "       [[0., 0., 0., ..., 0., 0., 0.],\n",
       "        [0., 0., 0., ..., 0., 0., 0.],\n",
       "        [0., 0., 0., ..., 0., 0., 0.],\n",
       "        ...,\n",
       "        [0., 0., 0., ..., 0., 0., 0.],\n",
       "        [0., 0., 0., ..., 0., 0., 0.],\n",
       "        [0., 0., 0., ..., 0., 0., 0.]]])"
      ]
     },
     "execution_count": 95,
     "metadata": {},
     "output_type": "execute_result"
    }
   ],
   "source": [
    "train_images = train_images / 255.0\n",
    "train_images"
   ]
  },
  {
   "cell_type": "code",
   "execution_count": 98,
   "metadata": {
    "nodes": "{\"boundingBox\":{\"y\":2604,\"x\":3716,\"width\":524},\"inputs\":[\"{\\\"name\\\":\\\"test_images\\\",\\\"outputSourceVarName\\\":\\\"NodeVarSpace['72']\\\"}\"],\"outputs\":[\"{\\\"inputNode\\\":\\\"{\\\\\\\"name\\\\\\\":\\\\\\\"NodeVarSpace['74']\\\\\\\"}\\\",\\\"name\\\":\\\"NodeVarSpace['74']\\\"}\"],\"title\":\"normalize test_images\"}",
    "scrolled": true
   },
   "outputs": [
    {
     "data": {
      "text/plain": [
       "array([[[0., 0., 0., ..., 0., 0., 0.],\n",
       "        [0., 0., 0., ..., 0., 0., 0.],\n",
       "        [0., 0., 0., ..., 0., 0., 0.],\n",
       "        ...,\n",
       "        [0., 0., 0., ..., 0., 0., 0.],\n",
       "        [0., 0., 0., ..., 0., 0., 0.],\n",
       "        [0., 0., 0., ..., 0., 0., 0.]],\n",
       "\n",
       "       [[0., 0., 0., ..., 0., 0., 0.],\n",
       "        [0., 0., 0., ..., 0., 0., 0.],\n",
       "        [0., 0., 0., ..., 0., 0., 0.],\n",
       "        ...,\n",
       "        [0., 0., 0., ..., 0., 0., 0.],\n",
       "        [0., 0., 0., ..., 0., 0., 0.],\n",
       "        [0., 0., 0., ..., 0., 0., 0.]],\n",
       "\n",
       "       [[0., 0., 0., ..., 0., 0., 0.],\n",
       "        [0., 0., 0., ..., 0., 0., 0.],\n",
       "        [0., 0., 0., ..., 0., 0., 0.],\n",
       "        ...,\n",
       "        [0., 0., 0., ..., 0., 0., 0.],\n",
       "        [0., 0., 0., ..., 0., 0., 0.],\n",
       "        [0., 0., 0., ..., 0., 0., 0.]],\n",
       "\n",
       "       ...,\n",
       "\n",
       "       [[0., 0., 0., ..., 0., 0., 0.],\n",
       "        [0., 0., 0., ..., 0., 0., 0.],\n",
       "        [0., 0., 0., ..., 0., 0., 0.],\n",
       "        ...,\n",
       "        [0., 0., 0., ..., 0., 0., 0.],\n",
       "        [0., 0., 0., ..., 0., 0., 0.],\n",
       "        [0., 0., 0., ..., 0., 0., 0.]],\n",
       "\n",
       "       [[0., 0., 0., ..., 0., 0., 0.],\n",
       "        [0., 0., 0., ..., 0., 0., 0.],\n",
       "        [0., 0., 0., ..., 0., 0., 0.],\n",
       "        ...,\n",
       "        [0., 0., 0., ..., 0., 0., 0.],\n",
       "        [0., 0., 0., ..., 0., 0., 0.],\n",
       "        [0., 0., 0., ..., 0., 0., 0.]],\n",
       "\n",
       "       [[0., 0., 0., ..., 0., 0., 0.],\n",
       "        [0., 0., 0., ..., 0., 0., 0.],\n",
       "        [0., 0., 0., ..., 0., 0., 0.],\n",
       "        ...,\n",
       "        [0., 0., 0., ..., 0., 0., 0.],\n",
       "        [0., 0., 0., ..., 0., 0., 0.],\n",
       "        [0., 0., 0., ..., 0., 0., 0.]]])"
      ]
     },
     "execution_count": 98,
     "metadata": {},
     "output_type": "execute_result"
    }
   ],
   "source": [
    "test_images = test_images / 255.0\n",
    "test_images"
   ]
  },
  {
   "cell_type": "code",
   "execution_count": 108,
   "metadata": {
    "id": "9ODch-OFCaW4",
    "nodes": "{\"boundingBox\":{\"y\":974,\"x\":4158,\"width\":860},\"inputs\":[],\"outputs\":[\"{\\\"inputNode\\\":\\\"{\\\\\\\"name\\\\\\\":\\\\\\\"NodeVarSpace['94']\\\\\\\"}\\\",\\\"name\\\":\\\"NodeVarSpace['94']\\\"}\"],\"title\":\"get model\"}"
   },
   "outputs": [
    {
     "data": {
      "text/plain": [
       "<tensorflow.python.keras.engine.sequential.Sequential at 0x7f8de5c56370>"
      ]
     },
     "execution_count": 108,
     "metadata": {},
     "output_type": "execute_result"
    }
   ],
   "source": [
    "model = keras.Sequential([\n",
    "    keras.layers.Flatten(input_shape=(28, 28)),\n",
    "    keras.layers.Dense(128, activation='relu'),\n",
    "    keras.layers.Dense(10)\n",
    "])\n",
    "model"
   ]
  },
  {
   "cell_type": "code",
   "execution_count": 111,
   "metadata": {
    "id": "Lhan11blCaW7",
    "nodes": "{\"boundingBox\":{\"y\":974,\"x\":5210,\"width\":904},\"inputs\":[\"{\\\"name\\\":\\\"model\\\",\\\"outputSourceVarName\\\":\\\"NodeVarSpace['94']\\\"}\"],\"outputs\":[\"{\\\"inputNode\\\":\\\"{\\\\\\\"name\\\\\\\":\\\\\\\"NodeVarSpace['93']\\\\\\\"}\\\",\\\"name\\\":\\\"NodeVarSpace['93']\\\"}\"],\"title\":\"compile model\"}"
   },
   "outputs": [
    {
     "data": {
      "text/plain": [
       "<tensorflow.python.keras.engine.sequential.Sequential at 0x7f8de5c56370>"
      ]
     },
     "execution_count": 111,
     "metadata": {},
     "output_type": "execute_result"
    }
   ],
   "source": [
    "model.compile(optimizer='adam',\n",
    "              loss=tf.keras.losses.SparseCategoricalCrossentropy(from_logits=True),\n",
    "              metrics=['accuracy'])\n",
    "model"
   ]
  },
  {
   "cell_type": "code",
   "execution_count": 116,
   "metadata": {
    "id": "xvwvpA64CaW_",
    "nodes": "{\"boundingBox\":{\"y\":1872,\"x\":8308,\"width\":560},\"inputs\":[\"{\\\"name\\\":\\\"model\\\",\\\"outputSourceVarName\\\":\\\"NodeVarSpace['93']\\\"}\",\"{\\\"name\\\":\\\"train_images\\\",\\\"outputSourceVarName\\\":\\\"NodeVarSpace['61']\\\"}\",\"{\\\"name\\\":\\\"train_labels\\\",\\\"outputSourceVarName\\\":\\\"NodeVarSpace['71']\\\"}\",\"{\\\"name\\\":\\\"epochs=10\\\",\\\"outputSourceVarName\\\":null}\"],\"outputs\":[\"{\\\"inputNode\\\":\\\"{\\\\\\\"name\\\\\\\":\\\\\\\"NodeVarSpace['92']\\\\\\\"}\\\",\\\"name\\\":\\\"NodeVarSpace['92']\\\"}\"],\"title\":\"train model\"}"
   },
   "outputs": [
    {
     "name": "stdout",
     "output_type": "stream",
     "text": [
      "6000/6000 [==============================] - 3s 456us/step - loss: 0.3687 - accuracy: 0.8658\n"
     ]
    },
    {
     "data": {
      "text/plain": [
       "<tensorflow.python.keras.engine.sequential.Sequential at 0x7f8de5c56370>"
      ]
     },
     "execution_count": 116,
     "metadata": {},
     "output_type": "execute_result"
    }
   ],
   "source": [
    "model.fit(train_images, train_labels, epochs)\n",
    "model"
   ]
  },
  {
   "cell_type": "code",
   "execution_count": 121,
   "metadata": {
    "id": "DnfNA0CrQLSD",
    "nodes": "{\"boundingBox\":{\"y\":2495,\"x\":10703,\"width\":752},\"inputs\":[\"{\\\"name\\\":\\\"model\\\",\\\"outputSourceVarName\\\":\\\"NodeVarSpace['91']\\\"}\"],\"outputs\":[\"{\\\"inputNode\\\":\\\"{\\\\\\\"name\\\\\\\":\\\\\\\"NodeVarSpace['90']\\\\\\\"}\\\",\\\"name\\\":\\\"NodeVarSpace['90']\\\"}\"],\"title\":\"get probability_model\"}"
   },
   "outputs": [
    {
     "data": {
      "text/plain": [
       "<tensorflow.python.keras.engine.sequential.Sequential at 0x7f8de5996130>"
      ]
     },
     "execution_count": 121,
     "metadata": {},
     "output_type": "execute_result"
    }
   ],
   "source": [
    "probability_model = tf.keras.Sequential([model, \n",
    "                                         tf.keras.layers.Softmax()])\n",
    "probability_model"
   ]
  },
  {
   "cell_type": "code",
   "execution_count": 120,
   "metadata": {
    "id": "VflXLEeECaXC",
    "nodes": "{\"boundingBox\":{\"y\":2237,\"x\":9315,\"width\":1065},\"inputs\":[\"{\\\"name\\\":\\\"test_labels\\\",\\\"outputSourceVarName\\\":\\\"NodeVarSpace['73']\\\"}\",\"{\\\"name\\\":\\\"test_images\\\",\\\"outputSourceVarName\\\":\\\"NodeVarSpace['74']\\\"}\",\"{\\\"name\\\":\\\"model\\\",\\\"outputSourceVarName\\\":\\\"NodeVarSpace['92']\\\"}\"],\"outputs\":[\"{\\\"inputNode\\\":\\\"{\\\\\\\"name\\\\\\\":\\\\\\\"NodeVarSpace['91']\\\\\\\"}\\\",\\\"name\\\":\\\"NodeVarSpace['91']\\\"}\"],\"title\":\"test model\"}"
   },
   "outputs": [
    {
     "name": "stdout",
     "output_type": "stream",
     "text": [
      "313/313 - 0s - loss: 0.3799 - accuracy: 0.8655\n",
      "\n",
      "Test accuracy: 0.8654999732971191\n"
     ]
    },
    {
     "data": {
      "text/plain": [
       "<tensorflow.python.keras.engine.sequential.Sequential at 0x7f8de5c56370>"
      ]
     },
     "execution_count": 120,
     "metadata": {},
     "output_type": "execute_result"
    }
   ],
   "source": [
    "test_loss, test_acc = model.evaluate(test_images,  test_labels, verbose=2)\n",
    "\n",
    "print('\\nTest accuracy:', test_acc)\n",
    "model"
   ]
  },
  {
   "cell_type": "code",
   "execution_count": 123,
   "metadata": {
    "id": "Gl91RPhdCaXI",
    "nodes": "{\"boundingBox\":{\"y\":2755,\"x\":11946,\"width\":816},\"inputs\":[\"{\\\"name\\\":\\\"probability_model\\\",\\\"outputSourceVarName\\\":\\\"NodeVarSpace['90']\\\"}\",\"{\\\"name\\\":\\\"test_images\\\",\\\"outputSourceVarName\\\":\\\"NodeVarSpace['74']\\\"}\"],\"outputs\":[\"{\\\"inputNode\\\":\\\"{\\\\\\\"name\\\\\\\":\\\\\\\"NodeVarSpace['89']\\\\\\\"}\\\",\\\"name\\\":\\\"NodeVarSpace['89']\\\"}\"],\"title\":\"get predictions\"}"
   },
   "outputs": [
    {
     "data": {
      "text/plain": [
       "array([[1.5236752e-05, 5.3502737e-07, 1.8176268e-06, ..., 1.1213999e-01,\n",
       "        8.8246532e-05, 4.9889690e-01],\n",
       "       [1.4456967e-04, 2.0870171e-10, 9.8212415e-01, ..., 7.2360170e-15,\n",
       "        2.0844980e-07, 3.0934047e-12],\n",
       "       [8.6370392e-08, 9.9999893e-01, 2.4896410e-08, ..., 1.0934103e-14,\n",
       "        2.6157759e-10, 1.1832419e-14],\n",
       "       ...,\n",
       "       [5.8535149e-04, 4.0492569e-08, 4.9918372e-04, ..., 2.6972566e-09,\n",
       "        9.9697459e-01, 2.5729524e-11],\n",
       "       [1.9934780e-06, 9.9929810e-01, 1.3060339e-06, ..., 4.7783394e-10,\n",
       "        2.6021039e-06, 1.3341919e-08],\n",
       "       [6.0439610e-04, 4.0753515e-05, 6.3273817e-04, ..., 8.5702073e-03,\n",
       "        1.1831787e-02, 2.2812837e-04]], dtype=float32)"
      ]
     },
     "execution_count": 123,
     "metadata": {},
     "output_type": "execute_result"
    }
   ],
   "source": [
    "predictions = probability_model.predict(test_images)\n",
    "predictions"
   ]
  },
  {
   "cell_type": "code",
   "execution_count": 129,
   "metadata": {
    "id": "2tRmdq_8CaXb",
    "nodes": "{\"boundingBox\":{\"y\":2836,\"x\":13188,\"width\":891},\"inputs\":[\"{\\\"name\\\":\\\"predictions_single\\\",\\\"outputSourceVarName\\\":\\\"NodeVarSpace['89']\\\"}\"],\"outputs\":[\"{\\\"inputNode\\\":\\\"{\\\\\\\"name\\\\\\\":\\\\\\\"NodeVarSpace['87']\\\\\\\"}\\\",\\\"name\\\":\\\"NodeVarSpace['87']\\\"}\"],\"title\":\"FuncSpace_func_2\"}"
   },
   "outputs": [
    {
     "data": {
      "text/plain": [
       "9"
      ]
     },
     "execution_count": 129,
     "metadata": {},
     "output_type": "execute_result"
    }
   ],
   "source": [
    "np.argmax(predictions_single[0])"
   ]
  },
  {
   "cell_type": "code",
   "execution_count": 139,
   "metadata": {
    "id": "DvYmmrpIy6Y1",
    "nodes": "{\"boundingBox\":{\"y\":1652,\"x\":11924,\"width\":900},\"inputs\":[\"{\\\"name\\\":\\\"class_names\\\",\\\"outputSourceVarName\\\":\\\"NodeVarSpace['68']\\\"}\"],\"outputs\":[\"{\\\"inputNode\\\":\\\"{\\\\\\\"name\\\\\\\":\\\\\\\"plot_image, plot_value_array\\\\\\\"}\\\",\\\"name\\\":\\\"plot_image, plot_value_array\\\"}\"],\"title\":\"make special plotting functions\"}"
   },
   "outputs": [
    {
     "data": {
      "text/plain": [
       "(<function __main__.make_special_plotting_functions.<locals>.plot_image(i, predictions_array, true_label, img)>,\n",
       " <function __main__.make_special_plotting_functions.<locals>.plot_value_array(i, predictions_array, true_label)>)"
      ]
     },
     "execution_count": 139,
     "metadata": {},
     "output_type": "execute_result"
    }
   ],
   "source": [
    "def plot_image(i, predictions_array, true_label, img):\n",
    "  true_label, img = true_label[i], img[i]\n",
    "  plt.grid(False)\n",
    "  plt.xticks([])\n",
    "  plt.yticks([])\n",
    "\n",
    "  plt.imshow(img, cmap=plt.cm.binary)\n",
    "\n",
    "  predicted_label = np.argmax(predictions_array)\n",
    "  if predicted_label == true_label:\n",
    "    color = 'blue'\n",
    "  else:\n",
    "    color = 'red'\n",
    "\n",
    "  plt.xlabel(\"{} {:2.0f}% ({})\".format(class_names[predicted_label],\n",
    "                                100*np.max(predictions_array),\n",
    "                                class_names[true_label]),\n",
    "                                color=color)\n",
    "\n",
    "def plot_value_array(i, predictions_array, true_label):\n",
    "  true_label = true_label[i]\n",
    "  plt.grid(False)\n",
    "  plt.xticks(range(10))\n",
    "  plt.yticks([])\n",
    "  thisplot = plt.bar(range(10), predictions_array, color=\"#777777\")\n",
    "  plt.ylim([0, 1])\n",
    "  predicted_label = np.argmax(predictions_array)\n",
    "\n",
    "  thisplot[predicted_label].set_color('red')\n",
    "  thisplot[true_label].set_color('blue')\n",
    "\n",
    "plot_image, plot_value_array"
   ]
  },
  {
   "cell_type": "code",
   "execution_count": 130,
   "metadata": {
    "id": "Sd7Pgsu6CaXP",
    "nodes": "{\"boundingBox\":{\"y\":3230,\"x\":13347,\"width\":336},\"inputs\":[\"{\\\"name\\\":\\\"test_labels\\\",\\\"outputSourceVarName\\\":\\\"NodeVarSpace['73']\\\"}\"],\"outputs\":[\"{\\\"inputNode\\\":\\\"{\\\\\\\"name\\\\\\\":\\\\\\\"NodeVarSpace['86']\\\\\\\"}\\\",\\\"name\\\":\\\"NodeVarSpace['86']\\\"}\"],\"title\":\"FuncSpace_func_43\"}"
   },
   "outputs": [
    {
     "data": {
      "text/plain": [
       "9"
      ]
     },
     "execution_count": 130,
     "metadata": {},
     "output_type": "execute_result"
    }
   ],
   "source": [
    "test_labels[0]"
   ]
  },
  {
   "cell_type": "code",
   "execution_count": 154,
   "metadata": {
    "id": "HV5jw-5HwSmO",
    "nodes": "{\"boundingBox\":{\"y\":3609,\"x\":13884,\"width\":729},\"inputs\":[\"{\\\"name\\\":\\\"predictions\\\",\\\"outputSourceVarName\\\":\\\"NodeVarSpace['89']\\\"}\",\"{\\\"name\\\":\\\"test_images\\\",\\\"outputSourceVarName\\\":\\\"NodeVarSpace['72']\\\"}\",\"{\\\"name\\\":\\\"test_labels\\\",\\\"outputSourceVarName\\\":\\\"NodeVarSpace['73']\\\"}\",\"{\\\"name\\\":\\\"idx=0\\\",\\\"outputSourceVarName\\\":null}\"],\"outputs\":[\"{\\\"inputNode\\\":\\\"{\\\\\\\"name\\\\\\\":\\\\\\\"NodeVarSpace['84']\\\\\\\"}\\\",\\\"name\\\":\\\"NodeVarSpace['84']\\\"}\"],\"title\":\"visualize neuron activations\"}"
   },
   "outputs": [
    {
     "name": "stdout",
     "output_type": "stream",
     "text": [
      "Label 9\n"
     ]
    },
    {
     "data": {
      "image/png": "[encoded data removed]",
      "text/plain": [
       "<Figure size 432x216 with 2 Axes>"
      ]
     },
     "metadata": {
      "needs_background": "light"
     },
     "output_type": "display_data"
    }
   ],
   "source": [
    "i = idx\n",
    "plt.figure(figsize=(6,3))\n",
    "plt.subplot(1,2,1)\n",
    "plot_image(i, predictions[i], test_labels, test_images)\n",
    "plt.subplot(1,2,2)\n",
    "plot_value_array(i, predictions[i],  test_labels)\n",
    "print('Label', test_labels[i])\n",
    "plt.show()"
   ]
  },
  {
   "cell_type": "code",
   "execution_count": null,
   "metadata": {
    "id": "o_rzNSdrCaXY",
    "nodes": "{\"boundingBox\":{\"y\":7116,\"x\":13936,\"width\":600},\"inputs\":[],\"outputs\":[\"{\\\"inputNode\\\":\\\"{\\\\\\\"name\\\\\\\":\\\\\\\"NodeVarSpace['81']\\\\\\\"}\\\",\\\"name\\\":\\\"NodeVarSpace['81']\\\"}\"],\"title\":\"FuncSpace_func_36\"}"
   },
   "outputs": [],
   "source": [
    "predictions_single = probability_model.predict(img)\n",
    "\n",
    "print(predictions_single)"
   ]
  },
  {
   "cell_type": "code",
   "execution_count": 146,
   "metadata": {
    "nodes": "{\"boundingBox\":{\"y\":4728,\"x\":13435,\"width\":200},\"inputs\":[],\"outputs\":[\"{\\\"inputNode\\\":\\\"{\\\\\\\"name\\\\\\\":\\\\\\\"NodeVarSpace['97']\\\\\\\"}\\\",\\\"name\\\":\\\"NodeVarSpace['97']\\\"}\"],\"title\":\"FuncSpace_func_408\"}"
   },
   "outputs": [
    {
     "data": {
      "text/plain": [
       "12"
      ]
     },
     "execution_count": 146,
     "metadata": {},
     "output_type": "execute_result"
    }
   ],
   "source": [
    "12"
   ]
  },
  {
   "cell_type": "code",
   "execution_count": 155,
   "metadata": {
    "nodes": "{\"boundingBox\":{\"y\":4408,\"x\":13885,\"width\":677},\"inputs\":[\"{\\\"name\\\":\\\"predictions\\\",\\\"outputSourceVarName\\\":\\\"NodeVarSpace['89']\\\"}\",\"{\\\"name\\\":\\\"test_images\\\",\\\"outputSourceVarName\\\":\\\"NodeVarSpace['72']\\\"}\",\"{\\\"name\\\":\\\"test_labels\\\",\\\"outputSourceVarName\\\":\\\"NodeVarSpace['73']\\\"}\",\"{\\\"name\\\":\\\"idx\\\",\\\"outputSourceVarName\\\":\\\"NodeVarSpace['97']\\\"}\"],\"outputs\":[\"{\\\"inputNode\\\":\\\"{\\\\\\\"name\\\\\\\":\\\\\\\"NodeVarSpace['84']\\\\\\\"}\\\",\\\"name\\\":\\\"NodeVarSpace['84']\\\"}\"],\"title\":\"visualize neuron activations\"}"
   },
   "outputs": [
    {
     "name": "stdout",
     "output_type": "stream",
     "text": [
      "Label 7\n"
     ]
    },
    {
     "data": {
      "image/png": "[encoded data removed]",
      "text/plain": [
       "<Figure size 432x216 with 2 Axes>"
      ]
     },
     "metadata": {
      "needs_background": "light"
     },
     "output_type": "display_data"
    }
   ],
   "source": [
    "i = idx\n",
    "plt.figure(figsize=(6,3))\n",
    "plt.subplot(1,2,1)\n",
    "plot_image(i, predictions[i], test_labels, test_images)\n",
    "plt.subplot(1,2,2)\n",
    "plot_value_array(i, predictions[i],  test_labels)\n",
    "print('Label', test_labels[i])\n",
    "plt.show()"
   ]
  },
  {
   "cell_type": "code",
   "execution_count": 156,
   "metadata": {
    "id": "hQlnbqaw2Qu_",
    "nodes": "{\"boundingBox\":{\"y\":3122,\"x\":14951,\"width\":873},\"inputs\":[\"{\\\"name\\\":\\\"predictions\\\",\\\"outputSourceVarName\\\":\\\"NodeVarSpace['89']\\\"}\",\"{\\\"name\\\":\\\"test_labels\\\",\\\"outputSourceVarName\\\":\\\"NodeVarSpace['73']\\\"}\",\"{\\\"name\\\":\\\"test_images\\\",\\\"outputSourceVarName\\\":\\\"NodeVarSpace['74']\\\"}\"],\"outputs\":[\"{\\\"inputNode\\\":\\\"{\\\\\\\"name\\\\\\\":\\\\\\\"NodeVarSpace['82']\\\\\\\"}\\\",\\\"name\\\":\\\"NodeVarSpace['82']\\\"}\"],\"title\":\"visualize all neuron activations\"}"
   },
   "outputs": [
    {
     "data": {
      "image/png": "[encoded data removed]",
      "text/plain": [
       "<Figure size 864x720 with 30 Axes>"
      ]
     },
     "metadata": {
      "needs_background": "light"
     },
     "output_type": "display_data"
    }
   ],
   "source": [
    "# Plot the first X test images, their predicted labels, and the true labels.\n",
    "# Color correct predictions in blue and incorrect predictions in red.\n",
    "num_rows = 5\n",
    "num_cols = 3\n",
    "num_images = num_rows*num_cols\n",
    "plt.figure(figsize=(2*2*num_cols, 2*num_rows))\n",
    "for i in range(num_images):\n",
    "  plt.subplot(num_rows, 2*num_cols, 2*i+1)\n",
    "  plot_image(i, predictions[i], test_labels, test_images)\n",
    "  plt.subplot(num_rows, 2*num_cols, 2*i+2)\n",
    "  plot_value_array(i, predictions[i], test_labels)\n",
    "plt.tight_layout()\n",
    "plt.show()"
   ]
  },
  {
   "cell_type": "code",
   "execution_count": 157,
   "metadata": {
    "id": "6Ai-cpLjO-3A",
    "nodes": "{\"boundingBox\":{\"y\":5265,\"x\":13749,\"width\":792},\"inputs\":[\"{\\\"name\\\":\\\"predictions_single\\\",\\\"outputSourceVarName\\\":\\\"NodeVarSpace['89']\\\"}\",\"{\\\"name\\\":\\\"test_labels\\\",\\\"outputSourceVarName\\\":\\\"NodeVarSpace['73']\\\"}\",\"{\\\"name\\\":\\\"class_names\\\",\\\"outputSourceVarName\\\":\\\"NodeVarSpace['68']\\\"}\"],\"outputs\":[\"{\\\"inputNode\\\":\\\"{\\\\\\\"name\\\\\\\":\\\\\\\"NodeVarSpace['80']\\\\\\\"}\\\",\\\"name\\\":\\\"NodeVarSpace['80']\\\"}\"],\"title\":\"FuncSpace_func_3\"}",
    "scrolled": false
   },
   "outputs": [
    {
     "data": {
      "text/plain": [
       "([<matplotlib.axis.XTick at 0x7f8de56655e0>,\n",
       "  <matplotlib.axis.XTick at 0x7f8de56655b0>,\n",
       "  <matplotlib.axis.XTick at 0x7f8de57dfe20>,\n",
       "  <matplotlib.axis.XTick at 0x7f8dc3030f10>,\n",
       "  <matplotlib.axis.XTick at 0x7f8dc3033460>,\n",
       "  <matplotlib.axis.XTick at 0x7f8dc3033970>,\n",
       "  <matplotlib.axis.XTick at 0x7f8dc3033e80>,\n",
       "  <matplotlib.axis.XTick at 0x7f8dc302f3d0>,\n",
       "  <matplotlib.axis.XTick at 0x7f8dc302f8e0>,\n",
       "  <matplotlib.axis.XTick at 0x7f8dc302fdf0>],\n",
       " [Text(0, 0, 'T-shirt/top'),\n",
       "  Text(1, 0, 'Trouser'),\n",
       "  Text(2, 0, 'Pullover'),\n",
       "  Text(3, 0, 'Dress'),\n",
       "  Text(4, 0, 'Coat'),\n",
       "  Text(5, 0, 'Sandal'),\n",
       "  Text(6, 0, 'Shirt'),\n",
       "  Text(7, 0, 'Sneaker'),\n",
       "  Text(8, 0, 'Bag'),\n",
       "  Text(9, 0, 'Ankle boot')])"
      ]
     },
     "execution_count": 157,
     "metadata": {},
     "output_type": "execute_result"
    },
    {
     "data": {
      "image/png": "[encoded data removed]",
      "text/plain": [
       "<Figure size 432x288 with 1 Axes>"
      ]
     },
     "metadata": {
      "needs_background": "light"
     },
     "output_type": "display_data"
    }
   ],
   "source": [
    "plot_value_array(1, predictions_single[0], test_labels)\n",
    "_ = plt.xticks(range(10), class_names, rotation=45)\n",
    "_"
   ]
  },
  {
   "cell_type": "code",
   "execution_count": null,
   "metadata": {
    "cellView": "form",
    "id": "vasWnqRgy1H4",
    "nodes": "{\"boundingBox\":{\"y\":4782,\"x\":14940,\"width\":1248},\"inputs\":[],\"outputs\":[\"{\\\"inputNode\\\":\\\"{\\\\\\\"name\\\\\\\":\\\\\\\"NodeVarSpace['78']\\\\\\\"}\\\",\\\"name\\\":\\\"NodeVarSpace['78']\\\"}\"],\"title\":\"FuncSpace_func_63\"}"
   },
   "outputs": [],
   "source": [
    "#@title MIT License\n",
    "#\n",
    "# Copyright (c) 2017 François Chollet\n",
    "#\n",
    "# Permission is hereby granted, free of charge, to any person obtaining a\n",
    "# copy of this software and associated documentation files (the \"Software\"),\n",
    "# to deal in the Software without restriction, including without limitation\n",
    "# the rights to use, copy, modify, merge, publish, distribute, sublicense,\n",
    "# and/or sell copies of the Software, and to permit persons to whom the\n",
    "# Software is furnished to do so, subject to the following conditions:\n",
    "#\n",
    "# The above copyright notice and this permission notice shall be included in\n",
    "# all copies or substantial portions of the Software.\n",
    "#\n",
    "# THE SOFTWARE IS PROVIDED \"AS IS\", WITHOUT WARRANTY OF ANY KIND, EXPRESS OR\n",
    "# IMPLIED, INCLUDING BUT NOT LIMITED TO THE WARRANTIES OF MERCHANTABILITY,\n",
    "# FITNESS FOR A PARTICULAR PURPOSE AND NONINFRINGEMENT. IN NO EVENT SHALL\n",
    "# THE AUTHORS OR COPYRIGHT HOLDERS BE LIABLE FOR ANY CLAIM, DAMAGES OR OTHER\n",
    "# LIABILITY, WHETHER IN AN ACTION OF CONTRACT, TORT OR OTHERWISE, ARISING\n",
    "# FROM, OUT OF OR IN CONNECTION WITH THE SOFTWARE OR THE USE OR OTHER\n",
    "# DEALINGS IN THE SOFTWARE."
   ]
  },
  {
   "cell_type": "code",
   "execution_count": null,
   "metadata": {
    "nodes": "{\"boundingBox\":{\"y\":7571,\"x\":13929,\"width\":636},\"inputs\":[],\"outputs\":[\"{\\\"inputNode\\\":\\\"{\\\\\\\"name\\\\\\\":\\\\\\\"NodeVarSpace['77']\\\\\\\"}\\\",\\\"name\\\":\\\"NodeVarSpace['77']\\\"}\"],\"title\":\"FuncSpace_func_67\"}"
   },
   "outputs": [],
   "source": [
    "img = test_images[1]\n",
    "\n",
    "print(img.shape)"
   ]
  },
  {
   "cell_type": "code",
   "execution_count": null,
   "metadata": {
    "id": "lDFh5yF_CaXW",
    "nodes": "{\"boundingBox\":{\"y\":7166,\"x\":14733,\"width\":641},\"inputs\":[],\"outputs\":[\"{\\\"inputNode\\\":\\\"{\\\\\\\"name\\\\\\\":\\\\\\\"NodeVarSpace['76']\\\\\\\"}\\\",\\\"name\\\":\\\"NodeVarSpace['76']\\\"}\"],\"title\":\"FuncSpace_func_37\"}"
   },
   "outputs": [],
   "source": [
    "# Add the image to a batch where it's the only member.\n",
    "img = (np.expand_dims(img,0))\n",
    "\n",
    "print(img.shape)"
   ]
  },
  {
   "cell_type": "code",
   "execution_count": 104,
   "metadata": {
    "id": "oZTImqg_CaW1",
    "nodes": "{\"boundingBox\":{\"y\":2908,\"x\":4956,\"width\":868},\"inputs\":[\"{\\\"name\\\":\\\"train_images\\\",\\\"outputSourceVarName\\\":\\\"NodeVarSpace['61']\\\"}\",\"{\\\"name\\\":\\\"class_names\\\",\\\"outputSourceVarName\\\":\\\"NodeVarSpace['68']\\\"}\",\"{\\\"name\\\":\\\"train_labels\\\",\\\"outputSourceVarName\\\":\\\"NodeVarSpace['71']\\\"}\"],\"outputs\":[\"{\\\"inputNode\\\":\\\"{\\\\\\\"name\\\\\\\":\\\\\\\"NodeVarSpace['60']\\\\\\\"}\\\",\\\"name\\\":\\\"NodeVarSpace['60']\\\"}\"],\"title\":\"visualize train_labels\"}"
   },
   "outputs": [
    {
     "data": {
      "image/png": "[encoded data removed]",
      "text/plain": [
       "<Figure size 720x720 with 25 Axes>"
      ]
     },
     "metadata": {},
     "output_type": "display_data"
    }
   ],
   "source": [
    "plt.figure(figsize=(10,10))\n",
    "for i in range(25):\n",
    "    plt.subplot(5,5,i+1)\n",
    "    plt.xticks([])\n",
    "    plt.yticks([])\n",
    "    plt.grid(False)\n",
    "    plt.imshow(train_images[i], cmap=plt.cm.binary)\n",
    "    plt.xlabel(class_names[train_labels[i]])\n",
    "plt.show()"
   ]
  },
  {
   "cell_type": "code",
   "execution_count": 85,
   "metadata": {
    "id": "IjnLH5S2CaWx",
    "nodes": "{\"boundingBox\":{\"y\":3896,\"x\":3652,\"width\":760},\"inputs\":[],\"outputs\":[\"{\\\"inputNode\\\":\\\"{\\\\\\\"name\\\\\\\":\\\\\\\"NodeVarSpace['68']\\\\\\\"}\\\",\\\"name\\\":\\\"NodeVarSpace['68']\\\"}\"],\"title\":\"generate class_names\"}"
   },
   "outputs": [
    {
     "data": {
      "text/plain": [
       "['T-shirt/top',\n",
       " 'Trouser',\n",
       " 'Pullover',\n",
       " 'Dress',\n",
       " 'Coat',\n",
       " 'Sandal',\n",
       " 'Shirt',\n",
       " 'Sneaker',\n",
       " 'Bag',\n",
       " 'Ankle boot']"
      ]
     },
     "execution_count": 85,
     "metadata": {},
     "output_type": "execute_result"
    }
   ],
   "source": [
    "class_names = ['T-shirt/top', 'Trouser', 'Pullover', 'Dress', 'Coat',\n",
    "               'Sandal', 'Shirt', 'Sneaker', 'Bag', 'Ankle boot']\n",
    "class_names"
   ]
  },
  {
   "cell_type": "code",
   "execution_count": null,
   "metadata": {
    "cellView": "form",
    "id": "_ckMIh7O7s6D",
    "nodes": "{\"boundingBox\":{\"y\":150,\"x\":-287,\"width\":810},\"inputs\":[],\"outputs\":[\"{\\\"inputNode\\\":\\\"{\\\\\\\"name\\\\\\\":\\\\\\\"NodeVarSpace['99']\\\\\\\"}\\\",\\\"name\\\":\\\"NodeVarSpace['99']\\\"}\"],\"title\":\"Liscense\"}"
   },
   "outputs": [],
   "source": [
    "#@title Licensed under the Apache License, Version 2.0 (the \"License\");\n",
    "# you may not use this file except in compliance with the License.\n",
    "# You may obtain a copy of the License at\n",
    "#\n",
    "# https://www.apache.org/licenses/LICENSE-2.0\n",
    "#\n",
    "# Unless required by applicable law or agreed to in writing, software\n",
    "# distributed under the License is distributed on an \"AS IS\" BASIS,\n",
    "# WITHOUT WARRANTIES OR CONDITIONS OF ANY KIND, either express or implied.\n",
    "# See the License for the specific language governing permissions and\n",
    "# limitations under the License."
   ]
  },
  {
   "cell_type": "code",
   "execution_count": null,
   "metadata": {
    "id": "qsqenuPnCaXO",
    "nodes": "{\"boundingBox\":{\"y\":7692,\"x\":14804,\"width\":416},\"inputs\":[],\"outputs\":[\"{\\\"inputNode\\\":\\\"{\\\\\\\"name\\\\\\\":\\\\\\\"NodeVarSpace['79']\\\\\\\"}\\\",\\\"name\\\":\\\"NodeVarSpace['79']\\\"}\"],\"title\":\"FuncSpace_func_44\"}"
   },
   "outputs": [],
   "source": [
    "np.argmax(predictions[0])"
   ]
  }
 ],
 "metadata": {
  "colab": {
   "collapsed_sections": [],
   "name": "classification.ipynb",
   "toc_visible": true
  },
  "kernelspec": {
   "display_name": "Python 3",
   "language": "python",
   "name": "python3"
  },
  "language_info": {
   "codemirror_mode": {
    "name": "ipython",
    "version": 3
   },
   "file_extension": ".py",
   "mimetype": "text/x-python",
   "name": "python",
   "nbconvert_exporter": "python",
   "pygments_lexer": "ipython3",
   "version": "3.8.5"
  },
  "nodes": {
   "funcid": 548,
   "varid": 99,
   "view": {
    "left": 928,
    "top": 837,
    "zoom": 1
   }
  }
 },
 "nbformat": 4,
 "nbformat_minor": 1
}

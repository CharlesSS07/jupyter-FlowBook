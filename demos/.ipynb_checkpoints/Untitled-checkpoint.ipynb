{
 "cells": [
  {
   "cell_type": "markdown",
   "metadata": {
    "nodes": "{\"boundingBox\":{\"y\":211,\"x\":1313,\"width\":200},\"inputs\":[\"{\\\"name\\\":\\\"x\\\",\\\"outputSourceVarName\\\":\\\"NodeVarSpace['1']\\\"}\"],\"outputs\":[\"{\\\"inputNode\\\":\\\"{\\\\\\\"name\\\\\\\":\\\\\\\"\\\\\\\"}\\\",\\\"pythonKernelVariable\\\":\\\"NodeVarSpace['2']\\\"}\"],\"title\":\"FuncSpace_func_2\"}"
   },
   "source": [
    "asdf"
   ]
  },
  {
   "cell_type": "code",
   "execution_count": null,
   "metadata": {
    "nodes": "{\"boundingBox\":{\"y\":336,\"x\":653,\"width\":200},\"inputs\":[],\"outputs\":[\"{\\\"inputNode\\\":\\\"{\\\\\\\"name\\\\\\\":\\\\\\\"\\\\\\\"}\\\",\\\"pythonKernelVariable\\\":\\\"NodeVarSpace['1']\\\"}\"],\"title\":\"FuncSpace_func_1\"}"
   },
   "outputs": [],
   "source": []
  }
 ],
 "metadata": {
  "kernelspec": {
   "display_name": "Python 3",
   "language": "python",
   "name": "python3"
  },
  "language_info": {
   "codemirror_mode": {
    "name": "ipython",
    "version": 3
   },
   "file_extension": ".py",
   "mimetype": "text/x-python",
   "name": "python",
   "nbconvert_exporter": "python",
   "pygments_lexer": "ipython3",
   "version": "3.8.3"
  },
  "nodes": {
   "funcid": 13,
   "varid": 3,
   "view": {
    "left": 260,
    "top": 258,
    "zoom": 1
   }
  }
 },
 "nbformat": 4,
 "nbformat_minor": 4
}

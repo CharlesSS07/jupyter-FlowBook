{
 "cells": [
  {
   "cell_type": "code",
   "execution_count": 34,
   "metadata": {
    "nodes": "{\"boundingBox\":{\"y\":363,\"x\":667,\"width\":434},\"inputs\":[],\"outputs\":[\"{\\\"inputNode\\\":\\\"{\\\\\\\"name\\\\\\\":\\\\\\\"NodeVarSpace['11']\\\\\\\"}\\\",\\\"name\\\":\\\"NodeVarSpace['11']\\\"}\"],\"title\":\"FuncSpace_func_334\"}"
   },
   "outputs": [
    {
     "name": "stdout",
     "output_type": "stream",
     "text": [
      "me2\n"
     ]
    },
    {
     "data": {
      "text/plain": [
       "6"
      ]
     },
     "execution_count": 34,
     "metadata": {},
     "output_type": "execute_result"
    }
   ],
   "source": [
    "print('me2')\n",
    "6"
   ]
  },
  {
   "cell_type": "code",
   "execution_count": 30,
   "metadata": {
    "nodes": "{\"boundingBox\":{\"y\":325,\"x\":-997,\"width\":284},\"inputs\":[],\"outputs\":[\"{\\\"inputNode\\\":\\\"{\\\\\\\"name\\\\\\\":\\\\\\\"NodeVarSpace['9']\\\\\\\"}\\\",\\\"name\\\":\\\"NodeVarSpace['9']\\\"}\"],\"title\":\"FuncSpace_func_22\"}"
   },
   "outputs": [
    {
     "data": {
      "text/plain": [
       "'str'"
      ]
     },
     "execution_count": 30,
     "metadata": {},
     "output_type": "execute_result"
    }
   ],
   "source": [
    "\"str\""
   ]
  },
  {
   "cell_type": "code",
   "execution_count": null,
   "metadata": {
    "nodes": "{\"boundingBox\":{\"y\":11,\"x\":-709,\"width\":440},\"inputs\":[],\"outputs\":[\"{\\\"inputNode\\\":\\\"{\\\\\\\"name\\\\\\\":\\\\\\\"NodeVarSpace['10']\\\\\\\"}\\\",\\\"name\\\":\\\"NodeVarSpace['10']\\\"}\"],\"title\":\"FuncSpace_func_33\"}"
   },
   "outputs": [],
   "source": []
  },
  {
   "cell_type": "code",
   "execution_count": 33,
   "metadata": {
    "nodes": "{\"boundingBox\":{\"y\":-466,\"x\":-490,\"width\":407},\"inputs\":[],\"outputs\":[\"{\\\"inputNode\\\":\\\"{\\\\\\\"name\\\\\\\":\\\\\\\"NodeVarSpace['12']\\\\\\\"}\\\",\\\"name\\\":\\\"NodeVarSpace['12']\\\"}\"],\"title\":\"FuncSpace_func_335\"}"
   },
   "outputs": [
    {
     "name": "stdout",
     "output_type": "stream",
     "text": [
      "me\n"
     ]
    },
    {
     "data": {
      "text/plain": [
       "5"
      ]
     },
     "execution_count": 33,
     "metadata": {},
     "output_type": "execute_result"
    }
   ],
   "source": [
    "print('me')\n",
    "5"
   ]
  },
  {
   "cell_type": "code",
   "execution_count": 32,
   "metadata": {
    "nodes": "{\"boundingBox\":{\"y\":123,\"x\":-94,\"width\":706},\"inputs\":[],\"outputs\":[\"{\\\"inputNode\\\":\\\"{\\\\\\\"name\\\\\\\":\\\\\\\"NodeVarSpace['14']\\\\\\\"}\\\",\\\"name\\\":\\\"NodeVarSpace['14']\\\"}\"],\"title\":\"FuncSpace_func_393\"}",
    "scrolled": true
   },
   "outputs": [
    {
     "ename": "NameError",
     "evalue": "name 'input1' is not defined",
     "output_type": "error",
     "traceback": [
      "\u001b[0;31m---------------------------------------------------------------------------\u001b[0m",
      "\u001b[0;31mNameError\u001b[0m                                 Traceback (most recent call last)",
      "\u001b[0;32m<ipython-input-32-a6df36645f98>\u001b[0m in \u001b[0;36m<module>\u001b[0;34m\u001b[0m\n\u001b[1;32m      2\u001b[0m   \u001b[0mprint\u001b[0m\u001b[0;34m(\u001b[0m\u001b[0minput1\u001b[0m\u001b[0;34m)\u001b[0m\u001b[0;34m\u001b[0m\u001b[0;34m\u001b[0m\u001b[0m\n\u001b[1;32m      3\u001b[0m   \u001b[0;32mreturn\u001b[0m   \u001b[0mlen\u001b[0m\u001b[0;34m(\u001b[0m\u001b[0minput1\u001b[0m\u001b[0;34m)\u001b[0m\u001b[0;34m\u001b[0m\u001b[0;34m\u001b[0m\u001b[0m\n\u001b[0;32m----> 4\u001b[0;31m \u001b[0mNodeVarSpace\u001b[0m\u001b[0;34m[\u001b[0m\u001b[0;34m'6'\u001b[0m\u001b[0;34m]\u001b[0m \u001b[0;34m=\u001b[0m \u001b[0mFuncSpace_func_16\u001b[0m\u001b[0;34m(\u001b[0m\u001b[0minput1\u001b[0m\u001b[0;34m)\u001b[0m\u001b[0;34m\u001b[0m\u001b[0;34m\u001b[0m\u001b[0m\n\u001b[0m\u001b[1;32m      5\u001b[0m \u001b[0mNodeVarSpace\u001b[0m\u001b[0;34m[\u001b[0m\u001b[0;34m'6'\u001b[0m\u001b[0;34m]\u001b[0m\u001b[0;34m\u001b[0m\u001b[0;34m\u001b[0m\u001b[0m\n",
      "\u001b[0;31mNameError\u001b[0m: name 'input1' is not defined"
     ]
    }
   ],
   "source": [
    "print(input1)\n",
    "len(input1)"
   ]
  },
  {
   "cell_type": "code",
   "execution_count": 44,
   "metadata": {
    "nodes": "{\"boundingBox\":{\"y\":-801,\"x\":552,\"width\":640},\"inputs\":[],\"outputs\":[\"{\\\"inputNode\\\":\\\"{\\\\\\\"name\\\\\\\":\\\\\\\"NodeVarSpace['15']\\\\\\\"}\\\",\\\"name\\\":\\\"NodeVarSpace['15']\\\"}\"],\"title\":\"FuncSpace_func_394\"}"
   },
   "outputs": [
    {
     "name": "stdout",
     "output_type": "stream",
     "text": [
      "Initialized Backend Successfully on 2023-08-09 16:14:42\n"
     ]
    }
   ],
   "source": [
    "import datetime\n",
    "if 'NodeVarSpace' not in vars():\n",
    "  NodeVarSpace = {}\n",
    "NodeVarSpace\n",
    "print(\"Initialized Backend Successfully on \"+datetime.datetime.now().strftime(\"%Y-%m-%d %H:%M:%S\"))"
   ]
  },
  {
   "cell_type": "code",
   "execution_count": 29,
   "metadata": {
    "nodes": "{\"boundingBox\":{\"y\":-391,\"x\":418,\"width\":789},\"inputs\":[\"{\\\"name\\\":\\\"myinput\\\",\\\"outputSourceVarName\\\":\\\"NodeVarSpace['10']\\\"}\"],\"outputs\":[\"{\\\"inputNode\\\":\\\"{\\\\\\\"name\\\\\\\":\\\\\\\"NodeVarSpace['5']\\\\\\\"}\\\",\\\"name\\\":\\\"NodeVarSpace['5']\\\"}\"],\"title\":\"FuncSpace_func_15\"}",
    "scrolled": false
   },
   "outputs": [
    {
     "ename": "KeyError",
     "evalue": "'10'",
     "output_type": "error",
     "traceback": [
      "\u001b[0;31m---------------------------------------------------------------------------\u001b[0m",
      "\u001b[0;31mKeyError\u001b[0m                                  Traceback (most recent call last)",
      "\u001b[0;32m<ipython-input-29-2dbe70560734>\u001b[0m in \u001b[0;36m<module>\u001b[0;34m\u001b[0m\n\u001b[1;32m      1\u001b[0m \u001b[0;32mdef\u001b[0m \u001b[0mFuncSpace_func_15\u001b[0m\u001b[0;34m(\u001b[0m \u001b[0mmyinput\u001b[0m \u001b[0;34m)\u001b[0m\u001b[0;34m:\u001b[0m\u001b[0;34m\u001b[0m\u001b[0;34m\u001b[0m\u001b[0m\n\u001b[1;32m      2\u001b[0m   \u001b[0;32mreturn\u001b[0m   \u001b[0;34m\"teststring\"\u001b[0m\u001b[0;34m\u001b[0m\u001b[0;34m\u001b[0m\u001b[0m\n\u001b[0;32m----> 3\u001b[0;31m \u001b[0mNodeVarSpace\u001b[0m\u001b[0;34m[\u001b[0m\u001b[0;34m'5'\u001b[0m\u001b[0;34m]\u001b[0m \u001b[0;34m=\u001b[0m \u001b[0mFuncSpace_func_15\u001b[0m\u001b[0;34m(\u001b[0m\u001b[0mmyinput\u001b[0m\u001b[0;34m=\u001b[0m\u001b[0mNodeVarSpace\u001b[0m\u001b[0;34m[\u001b[0m\u001b[0;34m'10'\u001b[0m\u001b[0;34m]\u001b[0m\u001b[0;34m)\u001b[0m\u001b[0;34m\u001b[0m\u001b[0;34m\u001b[0m\u001b[0m\n\u001b[0m\u001b[1;32m      4\u001b[0m \u001b[0mNodeVarSpace\u001b[0m\u001b[0;34m[\u001b[0m\u001b[0;34m'5'\u001b[0m\u001b[0;34m]\u001b[0m\u001b[0;34m\u001b[0m\u001b[0;34m\u001b[0m\u001b[0m\n",
      "\u001b[0;31mKeyError\u001b[0m: '10'"
     ]
    }
   ],
   "source": [
    "\"teststring\""
   ]
  },
  {
   "cell_type": "code",
   "execution_count": 13,
   "metadata": {
    "mosaic": [],
    "nodes": "{\"boundingBox\":{\"y\":271,\"x\":1651,\"width\":638},\"inputs\":[\"{\\\"name\\\":\\\"input1\\\",\\\"outputSourceVarName\\\":\\\"NodeVarSpace['5']\\\"}\"],\"outputs\":[\"{\\\"inputNode\\\":\\\"{\\\\\\\"name\\\\\\\":\\\\\\\"NodeVarSpace['6']\\\\\\\"}\\\",\\\"name\\\":\\\"NodeVarSpace['6']\\\"}\"],\"title\":\"FuncSpace_func_16\"}"
   },
   "outputs": [
    {
     "name": "stdout",
     "output_type": "stream",
     "text": [
      "teststring\n"
     ]
    },
    {
     "data": {
      "text/plain": [
       "10"
      ]
     },
     "execution_count": 13,
     "metadata": {},
     "output_type": "execute_result"
    }
   ],
   "source": [
    "print(input1)\n",
    "len(input1)"
   ]
  },
  {
   "cell_type": "code",
   "execution_count": 40,
   "metadata": {
    "nodes": "{\"boundingBox\":{\"y\":-176,\"x\":1532,\"width\":804},\"inputs\":[\"{\\\"name\\\":\\\"h\\\",\\\"outputSourceVarName\\\":null}\"],\"outputs\":[\"{\\\"inputNode\\\":\\\"{\\\\\\\"name\\\\\\\":\\\\\\\"NodeVarSpace['13']\\\\\\\"}\\\",\\\"name\\\":\\\"NodeVarSpace['13']\\\"}\"],\"title\":\"FuncSpace_func_336\"}"
   },
   "outputs": [
    {
     "name": "stdout",
     "output_type": "stream",
     "text": [
      "yo\n"
     ]
    },
    {
     "data": {
      "text/plain": [
       "77"
      ]
     },
     "execution_count": 40,
     "metadata": {},
     "output_type": "execute_result"
    }
   ],
   "source": [
    "print('yo')\n",
    "77"
   ]
  }
 ],
 "metadata": {
  "kernelspec": {
   "display_name": "Python 3",
   "language": "python",
   "name": "python3"
  },
  "language_info": {
   "codemirror_mode": {
    "name": "ipython",
    "version": 3
   },
   "file_extension": ".py",
   "mimetype": "text/x-python",
   "name": "python",
   "nbconvert_exporter": "python",
   "pygments_lexer": "ipython3",
   "version": "3.8.8"
  },
  "nodes": {
   "funcid": 565,
   "varid": 15,
   "view": {
    "left": -583.8101707434326,
    "top": 397.8537679878692,
    "zoom": 0.6070974421975591
   }
  }
 },
 "nbformat": 4,
 "nbformat_minor": 4
}

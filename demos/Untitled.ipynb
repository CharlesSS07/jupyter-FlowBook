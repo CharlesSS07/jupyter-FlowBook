{
 "cells": [
  {
   "cell_type": "markdown",
   "metadata": {
    "nodes": "{\"boundingBox\":{\"y\":211,\"x\":1313,\"width\":200},\"inputs\":[\"{\\\"name\\\":\\\"x\\\",\\\"outputSourceVarName\\\":\\\"NodeVarSpace['1']\\\"}\"],\"outputs\":[\"{\\\"inputNode\\\":\\\"{\\\\\\\"name\\\\\\\":\\\\\\\"\\\\\\\"}\\\",\\\"pythonKernelVariable\\\":\\\"NodeVarSpace['2']\\\"}\"],\"title\":\"FuncSpace_func_2\"}"
   },
   "source": [
    "asdf"
   ]
  },
  {
   "cell_type": "code",
   "execution_count": null,
   "metadata": {},
   "outputs": [],
   "source": []
  },
  {
   "cell_type": "code",
   "execution_count": 5,
   "metadata": {
    "nodes": "{\"boundingBox\":{\"y\":444,\"x\":584,\"width\":873},\"inputs\":[],\"outputs\":[\"{\\\"inputNode\\\":\\\"{\\\\\\\"name\\\\\\\":\\\\\\\"NodeVarSpace['3']\\\\\\\"}\\\",\\\"name\\\":\\\"NodeVarSpace['3']\\\"}\"],\"title\":\"FuncSpace_func_1\"}"
   },
   "outputs": [
    {
     "ename": "NameError",
     "evalue": "name 'NodeVarSpace' is not defined",
     "output_type": "error",
     "traceback": [
      "\u001b[0;31m---------------------------------------------------------------------------\u001b[0m",
      "\u001b[0;31mNameError\u001b[0m                                 Traceback (most recent call last)",
      "\u001b[0;32m<ipython-input-5-b4d155a033fa>\u001b[0m in \u001b[0;36m<module>\u001b[0;34m\u001b[0m\n\u001b[1;32m      2\u001b[0m   \u001b[0;32mimport\u001b[0m \u001b[0mos\u001b[0m\u001b[0;34m\u001b[0m\u001b[0;34m\u001b[0m\u001b[0m\n\u001b[1;32m      3\u001b[0m   \u001b[0;32mreturn\u001b[0m   \u001b[0mos\u001b[0m\u001b[0;34m.\u001b[0m\u001b[0mgetcwd\u001b[0m\u001b[0;34m(\u001b[0m\u001b[0;34m)\u001b[0m\u001b[0;34m\u001b[0m\u001b[0;34m\u001b[0m\u001b[0m\n\u001b[0;32m----> 4\u001b[0;31m \u001b[0mNodeVarSpace\u001b[0m\u001b[0;34m[\u001b[0m\u001b[0;34m'3'\u001b[0m\u001b[0;34m]\u001b[0m \u001b[0;34m=\u001b[0m \u001b[0mFuncSpace_func_1\u001b[0m\u001b[0;34m(\u001b[0m\u001b[0;34m)\u001b[0m\u001b[0;34m\u001b[0m\u001b[0;34m\u001b[0m\u001b[0m\n\u001b[0m\u001b[1;32m      5\u001b[0m \u001b[0mNodeVarSpace\u001b[0m\u001b[0;34m[\u001b[0m\u001b[0;34m'3'\u001b[0m\u001b[0;34m]\u001b[0m\u001b[0;34m\u001b[0m\u001b[0;34m\u001b[0m\u001b[0m\n",
      "\u001b[0;31mNameError\u001b[0m: name 'NodeVarSpace' is not defined"
     ]
    }
   ],
   "source": [
    "import os\n",
    "os.getcwd()"
   ]
  }
 ],
 "metadata": {
  "kernelspec": {
   "display_name": "Python 3",
   "language": "python",
   "name": "python3"
  },
  "language_info": {
   "codemirror_mode": {
    "name": "ipython",
    "version": 3
   },
   "file_extension": ".py",
   "mimetype": "text/x-python",
   "name": "python",
   "nbconvert_exporter": "python",
   "pygments_lexer": "ipython3",
   "version": "3.8.3"
  },
  "nodes": {
   "funcid": 13,
   "varid": 3,
   "view": {
    "left": 260,
    "top": 258,
    "zoom": 1
   }
  }
 },
 "nbformat": 4,
 "nbformat_minor": 4
}

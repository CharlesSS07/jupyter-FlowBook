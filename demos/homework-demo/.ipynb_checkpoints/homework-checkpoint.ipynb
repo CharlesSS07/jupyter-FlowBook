{
 "cells": [
  {
   "cell_type": "code",
   "execution_count": 28,
   "metadata": {
    "nodes": "{\"boundingBox\":{\"y\":-8,\"x\":2526,\"width\":338},\"inputs\":[\"{\\\"name\\\":\\\"x\\\",\\\"outputSourceVarName\\\":null}\",\"{\\\"name\\\":\\\"y\\\",\\\"outputSourceVarName\\\":null}\"],\"outputs\":[\"{\\\"inputNode\\\":\\\"{\\\\\\\"name\\\\\\\":\\\\\\\"\\\\\\\"}\\\",\\\"pythonKernelVariable\\\":\\\"NodeVarSpace['5']\\\"}\"],\"title\":\"divide x/y\"}"
   },
   "outputs": [
    {
     "data": {
      "text/plain": [
       "[0.012861736334405145,\n",
       " 0.014469453376205787,\n",
       " 0.2170418006430868,\n",
       " 0.3617363344051447,\n",
       " 0.14469453376205788,\n",
       " 0.05144694533762058,\n",
       " 0.18167202572347266,\n",
       " 0.01607717041800643]"
      ]
     },
     "execution_count": 28,
     "metadata": {},
     "output_type": "execute_result"
    }
   ],
   "source": [
    "import numpy as np\n",
    "list(np.array(x)/y)"
   ]
  },
  {
   "cell_type": "code",
   "execution_count": 6,
   "metadata": {
    "nodes": "{\"boundingBox\":{\"y\":501,\"x\":971,\"width\":824},\"inputs\":[\"{\\\"name\\\":\\\"x\\\",\\\"outputSourceVarName\\\":\\\"NodeVarSpace['12']\\\"}\"],\"outputs\":[\"{\\\"inputNode\\\":\\\"{\\\\\\\"name\\\\\\\":\\\\\\\"NodeVarSpace['21']\\\\\\\"}\\\",\\\"name\\\":\\\"NodeVarSpace['21']\\\"}\"],\"title\":\"print x\"}"
   },
   "outputs": [
    {
     "name": "stdout",
     "output_type": "stream",
     "text": [
      "Pocket picking\t8\n",
      "  Purse snatching\t9\n",
      "  Shoplifting\t135\n",
      "  From motor vehicles\t225\n",
      "  Motor vehicle accessories\t90\n",
      "  Bicycles\t32\n",
      "  From buildings\t113\n",
      "  From coin-operated machines\t10\n"
     ]
    }
   ],
   "source": [
    "\n",
    "print(x)"
   ]
  },
  {
   "cell_type": "code",
   "execution_count": 24,
   "metadata": {
    "nodes": "{\"boundingBox\":{\"y\":-103,\"x\":2066,\"width\":241},\"inputs\":[\"{\\\"name\\\":\\\"x\\\",\\\"outputSourceVarName\\\":\\\"NodeVarSpace['2']\\\"}\"],\"outputs\":[\"{\\\"inputNode\\\":\\\"{\\\\\\\"name\\\\\\\":\\\\\\\"NodeVarSpace['19']\\\\\\\"}\\\",\\\"name\\\":\\\"NodeVarSpace['19']\\\"}\"],\"title\":\"sum x\"}"
   },
   "outputs": [
    {
     "data": {
      "text/plain": [
       "622"
      ]
     },
     "execution_count": 24,
     "metadata": {},
     "output_type": "execute_result"
    }
   ],
   "source": [
    "sum(x)# test"
   ]
  },
  {
   "cell_type": "code",
   "execution_count": 23,
   "metadata": {
    "nodes": "{\"boundingBox\":{\"y\":-86,\"x\":914,\"width\":863},\"inputs\":[\"{\\\"name\\\":\\\"data\\\",\\\"outputSourceVarName\\\":\\\"NodeVarSpace['12']\\\"}\",\"{\\\"name\\\":\\\"collumn=1\\\",\\\"outputSourceVarName\\\":null}\"],\"outputs\":[\"{\\\"inputNode\\\":\\\"{\\\\\\\"name\\\\\\\":\\\\\\\"NodeVarSpace['22']\\\\\\\"}\\\",\\\"name\\\":\\\"NodeVarSpace['22']\\\"}\"],\"title\":\"parse collumn\"}"
   },
   "outputs": [
    {
     "data": {
      "text/plain": [
       "[8, 9, 135, 225, 90, 32, 113, 10]"
      ]
     },
     "execution_count": 23,
     "metadata": {},
     "output_type": "execute_result"
    }
   ],
   "source": [
    "[int(c.split('\\t')[collumn]) for c in data]"
   ]
  },
  {
   "cell_type": "code",
   "execution_count": 33,
   "metadata": {
    "nodes": "{\"boundingBox\":{\"y\":-724,\"x\":1843,\"width\":402},\"inputs\":[\"{\\\"name\\\":\\\"x\\\",\\\"outputSourceVarName\\\":null}\"],\"outputs\":[\"{\\\"inputNode\\\":\\\"{\\\\\\\"name\\\\\\\":\\\\\\\"NodeVarSpace['19']\\\\\\\"}\\\",\\\"name\\\":\\\"NodeVarSpace['19']\\\"}\"],\"title\":\"sum x\"}"
   },
   "outputs": [
    {
     "ename": "NameError",
     "evalue": "name 'x' is not defined",
     "output_type": "error",
     "traceback": [
      "\u001b[0;31m---------------------------------------------------------------------------\u001b[0m",
      "\u001b[0;31mNameError\u001b[0m                                 Traceback (most recent call last)",
      "\u001b[0;32m<ipython-input-33-25b7acfe15e6>\u001b[0m in \u001b[0;36m<module>\u001b[0;34m\u001b[0m\n\u001b[1;32m      1\u001b[0m \u001b[0;32mdef\u001b[0m \u001b[0msum_x\u001b[0m\u001b[0;34m(\u001b[0m \u001b[0mx\u001b[0m \u001b[0;34m)\u001b[0m\u001b[0;34m:\u001b[0m\u001b[0;34m\u001b[0m\u001b[0;34m\u001b[0m\u001b[0m\n\u001b[1;32m      2\u001b[0m   \u001b[0;32mreturn\u001b[0m   \u001b[0msum\u001b[0m\u001b[0;34m(\u001b[0m\u001b[0mx\u001b[0m\u001b[0;34m)\u001b[0m\u001b[0;31m# test\u001b[0m\u001b[0;34m\u001b[0m\u001b[0;34m\u001b[0m\u001b[0m\n\u001b[0;32m----> 3\u001b[0;31m \u001b[0mNodeVarSpace\u001b[0m\u001b[0;34m[\u001b[0m\u001b[0;34m'19'\u001b[0m\u001b[0;34m]\u001b[0m \u001b[0;34m=\u001b[0m \u001b[0msum_x\u001b[0m\u001b[0;34m(\u001b[0m\u001b[0mx\u001b[0m\u001b[0;34m)\u001b[0m\u001b[0;34m\u001b[0m\u001b[0;34m\u001b[0m\u001b[0m\n\u001b[0m\u001b[1;32m      4\u001b[0m \u001b[0mNodeVarSpace\u001b[0m\u001b[0;34m[\u001b[0m\u001b[0;34m'19'\u001b[0m\u001b[0;34m]\u001b[0m\u001b[0;34m\u001b[0m\u001b[0;34m\u001b[0m\u001b[0m\n",
      "\u001b[0;31mNameError\u001b[0m: name 'x' is not defined"
     ]
    }
   ],
   "source": [
    "sum(x)# test"
   ]
  },
  {
   "cell_type": "code",
   "execution_count": null,
   "metadata": {
    "nodes": "{\"boundingBox\":{\"y\":-396,\"x\":200,\"width\":201},\"inputs\":[],\"outputs\":[\"{\\\"inputNode\\\":\\\"{\\\\\\\"name\\\\\\\":\\\\\\\"NodeVarSpace['26']\\\\\\\"}\\\",\\\"name\\\":\\\"NodeVarSpace['26']\\\"}\"],\"title\":\"FuncSpace_func_41\"}"
   },
   "outputs": [],
   "source": []
  },
  {
   "cell_type": "code",
   "execution_count": null,
   "metadata": {
    "nodes": "{\"boundingBox\":{\"y\":12,\"x\":-69,\"width\":794},\"inputs\":[],\"outputs\":[\"{\\\"inputNode\\\":\\\"{\\\\\\\"name\\\\\\\":\\\\\\\"NodeVarSpace['12']\\\\\\\"}\\\",\\\"name\\\":\\\"NodeVarSpace['12']\\\"}\"],\"title\":\"get data\"}"
   },
   "outputs": [],
   "source": [
    "a = '''Pocket picking\t8\n",
    "Purse snatching\t9\n",
    "Shoplifting\t135\n",
    "From motor vehicles\t225\n",
    "Motor vehicle accessories\t90\n",
    "Bicycles\t32\n",
    "From buildings\t113\n",
    "From coin-operated machines\t10'''\n",
    "a.split('\\n')"
   ]
  }
 ],
 "metadata": {
  "kernelspec": {
   "display_name": "Python 3",
   "language": "python",
   "name": "python3"
  },
  "language_info": {
   "codemirror_mode": {
    "name": "ipython",
    "version": 3
   },
   "file_extension": ".py",
   "mimetype": "text/x-python",
   "name": "python",
   "nbconvert_exporter": "python",
   "pygments_lexer": "ipython3",
   "version": "3.8.5"
  },
  "nodes": {
   "funcid": 42,
   "varid": 26,
   "view": {
    "left": -203,
    "top": 901,
    "zoom": 1
   }
  }
 },
 "nbformat": 4,
 "nbformat_minor": 4
}

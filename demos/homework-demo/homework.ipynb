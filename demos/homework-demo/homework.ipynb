{
 "cells": [
  {
   "cell_type": "code",
   "execution_count": 8,
   "metadata": {},
   "outputs": [
    {
     "data": {
      "text/plain": [
       "0.250822656"
      ]
     },
     "execution_count": 8,
     "metadata": {},
     "output_type": "execute_result"
    }
   ],
   "source": [
    "C(9, 3)*(0.4**x)*(0.6**(9-x))"
   ]
  },
  {
   "cell_type": "code",
   "execution_count": 5,
   "metadata": {},
   "outputs": [],
   "source": [
    "x = 3"
   ]
  },
  {
   "cell_type": "code",
   "execution_count": 4,
   "metadata": {},
   "outputs": [],
   "source": [
    "import numpy as np"
   ]
  },
  {
   "cell_type": "code",
   "execution_count": 9,
   "metadata": {},
   "outputs": [
    {
     "data": {
      "text/plain": [
       "84.0"
      ]
     },
     "execution_count": 9,
     "metadata": {},
     "output_type": "execute_result"
    }
   ],
   "source": [
    "def C(n, r):\n",
    "    return np.math.factorial(n)/(np.math.factorial(r)*np.math.factorial(n-r))\n",
    "C(9, 3)"
   ]
  },
  {
   "cell_type": "code",
   "execution_count": 14,
   "metadata": {},
   "outputs": [
    {
     "data": {
      "text/plain": [
       "0.48260966399999994"
      ]
     },
     "execution_count": 14,
     "metadata": {},
     "output_type": "execute_result"
    }
   ],
   "source": [
    "def P_binomial_expierement(x, p, n):\n",
    "    return C(n, x)*(p**x)*((1-p)**(n-x))"
   ]
  },
  {
   "cell_type": "code",
   "execution_count": 15,
   "metadata": {},
   "outputs": [
    {
     "data": {
      "text/plain": [
       "0.48260966399999994"
      ]
     },
     "execution_count": 15,
     "metadata": {},
     "output_type": "execute_result"
    }
   ],
   "source": [
    "P_binomial_expierement(3, 0.4, 9)+P_binomial_expierement(2, 0.4, 9)+P_binomial_expierement(1, 0.4, 9)+P_binomial_expierement(0, 0.4, 9)"
   ]
  },
  {
   "cell_type": "code",
   "execution_count": 20,
   "metadata": {},
   "outputs": [
    {
     "data": {
      "text/plain": [
       "6.48074069840786"
      ]
     },
     "execution_count": 20,
     "metadata": {},
     "output_type": "execute_result"
    }
   ],
   "source": [
    "np.sqrt(200*0.7*(0.3))"
   ]
  },
  {
   "cell_type": "code",
   "execution_count": 1,
   "metadata": {},
   "outputs": [],
   "source": [
    "import pylab as pl"
   ]
  },
  {
   "cell_type": "code",
   "execution_count": 80,
   "metadata": {},
   "outputs": [],
   "source": [
    "data  = '''0-499\t0\t499\t5\n",
    "500-999\t500\t999\t17\n",
    "1000-1499\t1000\t1499\t36\n",
    "1500-1999\t1500\t1999\t115\n",
    "2000-2499\t2000\t2499\t125\n",
    "2500-2999\t2500\t2999\t81\n",
    "3000-3499\t3000\t3499\t47\n",
    "3500-3999\t3500\t3999\t41\n",
    "4000-4499\t4000\t4499\t26\n",
    "4500-4999\t4500\t4999\t7'''\n",
    "data = np.array([p.split('\\t')[1:] for p in data.split('\\n')]).astype(np.float32)"
   ]
  },
  {
   "cell_type": "code",
   "execution_count": 81,
   "metadata": {},
   "outputs": [
    {
     "data": {
      "text/plain": [
       "array([[   0.,  499.,    5.],\n",
       "       [ 500.,  999.,   17.],\n",
       "       [1000., 1499.,   36.],\n",
       "       [1500., 1999.,  115.],\n",
       "       [2000., 2499.,  125.],\n",
       "       [2500., 2999.,   81.],\n",
       "       [3000., 3499.,   47.],\n",
       "       [3500., 3999.,   41.],\n",
       "       [4000., 4499.,   26.],\n",
       "       [4500., 4999.,    7.]], dtype=float32)"
      ]
     },
     "execution_count": 81,
     "metadata": {},
     "output_type": "execute_result"
    }
   ],
   "source": [
    "data"
   ]
  },
  {
   "cell_type": "code",
   "execution_count": 100,
   "metadata": {},
   "outputs": [],
   "source": [
    "data = np.concatenate([np.array([(p[1]-p[2])/2 for _ in range(int(p[2]))]) for p in data])"
   ]
  },
  {
   "cell_type": "code",
   "execution_count": 105,
   "metadata": {},
   "outputs": [
    {
     "data": {
      "text/plain": [
       "array([ 247. ,  247. ,  247. ,  247. ,  247. ,  491. ,  491. ,  491. ,\n",
       "        491. ,  491. ,  491. ,  491. ,  491. ,  491. ,  491. ,  491. ,\n",
       "        491. ,  491. ,  491. ,  491. ,  491. ,  491. ,  731.5,  731.5,\n",
       "        731.5,  731.5,  731.5,  731.5,  731.5,  731.5,  731.5,  731.5,\n",
       "        731.5,  731.5,  731.5,  731.5,  731.5,  731.5,  731.5,  731.5,\n",
       "        731.5,  731.5,  731.5,  731.5,  731.5,  731.5,  731.5,  731.5,\n",
       "        731.5,  731.5,  731.5,  731.5,  731.5,  731.5,  731.5,  731.5,\n",
       "        731.5,  731.5,  942. ,  942. ,  942. ,  942. ,  942. ,  942. ,\n",
       "        942. ,  942. ,  942. ,  942. ,  942. ,  942. ,  942. ,  942. ,\n",
       "        942. ,  942. ,  942. ,  942. ,  942. ,  942. ,  942. ,  942. ,\n",
       "        942. ,  942. ,  942. ,  942. ,  942. ,  942. ,  942. ,  942. ,\n",
       "        942. ,  942. ,  942. ,  942. ,  942. ,  942. ,  942. ,  942. ,\n",
       "        942. ,  942. ,  942. ,  942. ,  942. ,  942. ,  942. ,  942. ,\n",
       "        942. ,  942. ,  942. ,  942. ,  942. ,  942. ,  942. ,  942. ,\n",
       "        942. ,  942. ,  942. ,  942. ,  942. ,  942. ,  942. ,  942. ,\n",
       "        942. ,  942. ,  942. ,  942. ,  942. ,  942. ,  942. ,  942. ,\n",
       "        942. ,  942. ,  942. ,  942. ,  942. ,  942. ,  942. ,  942. ,\n",
       "        942. ,  942. ,  942. ,  942. ,  942. ,  942. ,  942. ,  942. ,\n",
       "        942. ,  942. ,  942. ,  942. ,  942. ,  942. ,  942. ,  942. ,\n",
       "        942. ,  942. ,  942. ,  942. ,  942. ,  942. ,  942. ,  942. ,\n",
       "        942. ,  942. ,  942. ,  942. ,  942. ,  942. ,  942. ,  942. ,\n",
       "        942. ,  942. ,  942. ,  942. ,  942. , 1187. , 1187. , 1187. ,\n",
       "       1187. , 1187. , 1187. , 1187. , 1187. , 1187. , 1187. , 1187. ,\n",
       "       1187. , 1187. , 1187. , 1187. , 1187. , 1187. , 1187. , 1187. ,\n",
       "       1187. , 1187. , 1187. , 1187. , 1187. , 1187. , 1187. , 1187. ,\n",
       "       1187. , 1187. , 1187. , 1187. , 1187. , 1187. , 1187. , 1187. ,\n",
       "       1187. , 1187. , 1187. , 1187. , 1187. , 1187. , 1187. , 1187. ,\n",
       "       1187. , 1187. , 1187. , 1187. , 1187. , 1187. , 1187. , 1187. ,\n",
       "       1187. , 1187. , 1187. , 1187. , 1187. , 1187. , 1187. , 1187. ,\n",
       "       1187. , 1187. , 1187. , 1187. , 1187. , 1187. , 1187. , 1187. ,\n",
       "       1187. , 1187. , 1187. , 1187. , 1187. , 1187. , 1187. , 1187. ,\n",
       "       1187. , 1187. , 1187. , 1187. , 1187. , 1187. , 1187. , 1187. ,\n",
       "       1187. , 1187. , 1187. , 1187. , 1187. , 1187. , 1187. , 1187. ,\n",
       "       1187. , 1187. , 1187. , 1187. , 1187. , 1187. , 1187. , 1187. ,\n",
       "       1187. , 1187. , 1187. , 1187. , 1187. , 1187. , 1187. , 1187. ,\n",
       "       1187. , 1187. , 1187. , 1187. , 1187. , 1187. , 1187. , 1187. ,\n",
       "       1187. , 1187. , 1187. , 1187. , 1187. , 1187. , 1187. , 1187. ,\n",
       "       1187. , 1187. , 1459. , 1459. , 1459. , 1459. , 1459. , 1459. ,\n",
       "       1459. , 1459. , 1459. , 1459. , 1459. , 1459. , 1459. , 1459. ,\n",
       "       1459. , 1459. , 1459. , 1459. , 1459. , 1459. , 1459. , 1459. ,\n",
       "       1459. , 1459. , 1459. , 1459. , 1459. , 1459. , 1459. , 1459. ,\n",
       "       1459. , 1459. , 1459. , 1459. , 1459. , 1459. , 1459. , 1459. ,\n",
       "       1459. , 1459. , 1459. , 1459. , 1459. , 1459. , 1459. , 1459. ,\n",
       "       1459. , 1459. , 1459. , 1459. , 1459. , 1459. , 1459. , 1459. ,\n",
       "       1459. , 1459. , 1459. , 1459. , 1459. , 1459. , 1459. , 1459. ,\n",
       "       1459. , 1459. , 1459. , 1459. , 1459. , 1459. , 1459. , 1459. ,\n",
       "       1459. , 1459. , 1459. , 1459. , 1459. , 1459. , 1459. , 1459. ,\n",
       "       1459. , 1459. , 1459. , 1726. , 1726. , 1726. , 1726. , 1726. ,\n",
       "       1726. , 1726. , 1726. , 1726. , 1726. , 1726. , 1726. , 1726. ,\n",
       "       1726. , 1726. , 1726. , 1726. , 1726. , 1726. , 1726. , 1726. ,\n",
       "       1726. , 1726. , 1726. , 1726. , 1726. , 1726. , 1726. , 1726. ,\n",
       "       1726. , 1726. , 1726. , 1726. , 1726. , 1726. , 1726. , 1726. ,\n",
       "       1726. , 1726. , 1726. , 1726. , 1726. , 1726. , 1726. , 1726. ,\n",
       "       1726. , 1726. , 1979. , 1979. , 1979. , 1979. , 1979. , 1979. ,\n",
       "       1979. , 1979. , 1979. , 1979. , 1979. , 1979. , 1979. , 1979. ,\n",
       "       1979. , 1979. , 1979. , 1979. , 1979. , 1979. , 1979. , 1979. ,\n",
       "       1979. , 1979. , 1979. , 1979. , 1979. , 1979. , 1979. , 1979. ,\n",
       "       1979. , 1979. , 1979. , 1979. , 1979. , 1979. , 1979. , 1979. ,\n",
       "       1979. , 1979. , 1979. , 2236.5, 2236.5, 2236.5, 2236.5, 2236.5,\n",
       "       2236.5, 2236.5, 2236.5, 2236.5, 2236.5, 2236.5, 2236.5, 2236.5,\n",
       "       2236.5, 2236.5, 2236.5, 2236.5, 2236.5, 2236.5, 2236.5, 2236.5,\n",
       "       2236.5, 2236.5, 2236.5, 2236.5, 2236.5, 2496. , 2496. , 2496. ,\n",
       "       2496. , 2496. , 2496. , 2496. ])"
      ]
     },
     "execution_count": 105,
     "metadata": {},
     "output_type": "execute_result"
    }
   ],
   "source": [
    "data"
   ]
  },
  {
   "cell_type": "code",
   "execution_count": 101,
   "metadata": {},
   "outputs": [
    {
     "data": {
      "image/png": "[encoded data removed]",
      "text/plain": [
       "<Figure size 432x288 with 1 Axes>"
      ]
     },
     "metadata": {
      "needs_background": "light"
     },
     "output_type": "display_data"
    }
   ],
   "source": [
    "pl.hist(data)\n",
    "None"
   ]
  },
  {
   "cell_type": "code",
   "execution_count": 102,
   "metadata": {},
   "outputs": [
    {
     "data": {
      "text/plain": [
       "1297.364"
      ]
     },
     "execution_count": 102,
     "metadata": {},
     "output_type": "execute_result"
    }
   ],
   "source": [
    "np.mean(data)"
   ]
  },
  {
   "cell_type": "code",
   "execution_count": 103,
   "metadata": {},
   "outputs": [
    {
     "data": {
      "text/plain": [
       "1187.0"
      ]
     },
     "execution_count": 103,
     "metadata": {},
     "output_type": "execute_result"
    }
   ],
   "source": [
    "np.median(data)"
   ]
  },
  {
   "cell_type": "code",
   "execution_count": 87,
   "metadata": {},
   "outputs": [
    {
     "data": {
      "text/plain": [
       "4999.0"
      ]
     },
     "execution_count": 87,
     "metadata": {},
     "output_type": "execute_result"
    }
   ],
   "source": [
    "np.max(data)-np.min(data)"
   ]
  },
  {
   "cell_type": "code",
   "execution_count": 104,
   "metadata": {},
   "outputs": [
    {
     "data": {
      "text/plain": [
       "462.91794364562946"
      ]
     },
     "execution_count": 104,
     "metadata": {},
     "output_type": "execute_result"
    }
   ],
   "source": [
    "np.sqrt(std(data))"
   ]
  },
  {
   "cell_type": "code",
   "execution_count": 73,
   "metadata": {},
   "outputs": [],
   "source": [
    "def std(x):\n",
    "    x = np.array(x)\n",
    "    return (\n",
    "        np.sum(\n",
    "            (x-np.mean(x))**2\n",
    "        )/(np.prod(x.shape)-1)\n",
    "    )"
   ]
  },
  {
   "cell_type": "code",
   "execution_count": 50,
   "metadata": {},
   "outputs": [],
   "source": [
    "def variance(x):\n",
    "    return np.sqrt(std(x))"
   ]
  }
 ],
 "metadata": {
  "kernelspec": {
   "display_name": "Python 3",
   "language": "python",
   "name": "python3"
  },
  "language_info": {
   "codemirror_mode": {
    "name": "ipython",
    "version": 3
   },
   "file_extension": ".py",
   "mimetype": "text/x-python",
   "name": "python",
   "nbconvert_exporter": "python",
   "pygments_lexer": "ipython3",
   "version": "3.8.5"
  },
  "nodes": {
   "funcid": 43,
   "varid": 26,
   "view": {
    "left": 286,
    "top": 1055,
    "zoom": 1
   }
  }
 },
 "nbformat": 4,
 "nbformat_minor": 4
}
